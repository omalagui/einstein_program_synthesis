{
 "cells": [
  {
   "cell_type": "code",
   "execution_count": 1,
   "id": "FKCY8cG65K8r",
   "metadata": {
    "colab": {
     "base_uri": "https://localhost:8080/"
    },
    "executionInfo": {
     "elapsed": 29727,
     "status": "ok",
     "timestamp": 1755539043334,
     "user": {
      "displayName": "Omar Aguilar",
      "userId": "07112979418391027605"
     },
     "user_tz": -120
    },
    "id": "FKCY8cG65K8r",
    "outputId": "ac34c7cc-4b1d-4eb7-a355-5da273961a0e"
   },
   "outputs": [
    {
     "name": "stdout",
     "output_type": "stream",
     "text": [
      "Mounted at /content/drive\n",
      "using repo path: /content/drive/My Drive/einstein_program_synthesis/scripts\n",
      "exists? True\n",
      "contains: ['context.py', 'judgments.py', 'einstein_types.py', 'synthesis_state.py', 'synthesis_primitives.py', 'typing_rules.py', 'simplify.py', 'pure_bayes_search.py', 'enumeration_search.py', 'bayes_neural_search.py']\n"
     ]
    }
   ],
   "source": [
    "import sys\n",
    "from pathlib import Path\n",
    "\n",
    "def in_colab():\n",
    "    try:\n",
    "        import google.colab  # noqa: F401\n",
    "        return True\n",
    "    except Exception:\n",
    "        return False\n",
    "\n",
    "if in_colab():\n",
    "    from google.colab import drive\n",
    "    drive.mount(\"/content/drive\")\n",
    "    REPO_PATH = Path(\"/content/drive/My Drive/einstein_program_synthesis/scripts\")  # adjust if needed\n",
    "else:\n",
    "    REPO_PATH = Path.home() / \"Documents\" / \"Code\" / \"einstein_program_synthesis\" / \"scripts\"  # adjust if needed\n",
    "\n",
    "sys.path.insert(0, str(REPO_PATH.resolve()))\n",
    "print(\"using repo path:\", REPO_PATH.resolve())\n",
    "print(\"exists?\", REPO_PATH.exists())\n",
    "print(\"contains:\", [p.name for p in REPO_PATH.glob(\"*.py\")])\n"
   ]
  },
  {
   "cell_type": "markdown",
   "id": "D23KjLT2NjDD",
   "metadata": {
    "id": "D23KjLT2NjDD"
   },
   "source": [
    "# Bayes neural search"
   ]
  },
  {
   "cell_type": "code",
   "execution_count": 2,
   "id": "4f3dc424",
   "metadata": {
    "colab": {
     "base_uri": "https://localhost:8080/"
    },
    "executionInfo": {
     "elapsed": 8725,
     "status": "ok",
     "timestamp": 1755539052063,
     "user": {
      "displayName": "Omar Aguilar",
      "userId": "07112979418391027605"
     },
     "user_tz": -120
    },
    "id": "4f3dc424",
    "outputId": "4aef2fa0-16ad-4f0e-fbb8-15e4ee06d607"
   },
   "outputs": [
    {
     "name": "stdout",
     "output_type": "stream",
     "text": [
      "module path: /content/drive/My Drive/einstein_program_synthesis/scripts/bayes_neural_search.py\n"
     ]
    }
   ],
   "source": [
    "import importlib\n",
    "import bayes_neural_search as bn\n",
    "from einstein_types import Art, Emp\n",
    "\n",
    "bn = importlib.reload(bn)\n",
    "print(\"module path:\", bn.__file__)"
   ]
  },
  {
   "cell_type": "code",
   "execution_count": 3,
   "id": "Sl5qkRZ85Myk",
   "metadata": {
    "colab": {
     "base_uri": "https://localhost:8080/"
    },
    "executionInfo": {
     "elapsed": 12,
     "status": "ok",
     "timestamp": 1755539052078,
     "user": {
      "displayName": "Omar Aguilar",
      "userId": "07112979418391027605"
     },
     "user_tz": -120
    },
    "id": "Sl5qkRZ85Myk",
    "outputId": "f15ab00b-c8c2-4f70-e7d7-7008621ce7d1"
   },
   "outputs": [
    {
     "name": "stdout",
     "output_type": "stream",
     "text": [
      "3.11.13 (main, Jun  4 2025, 08:57:29) [GCC 11.4.0]\n",
      "torch: 2.6.0+cu124  numpy: 2.0.2\n"
     ]
    }
   ],
   "source": [
    "import sys, torch, numpy as np\n",
    "print(sys.version)\n",
    "print(\"torch:\", torch.__version__, \" numpy:\", np.__version__)"
   ]
  },
  {
   "cell_type": "markdown",
   "id": "NG97zBKfNREN",
   "metadata": {
    "id": "NG97zBKfNREN"
   },
   "source": [
    "## Search settings"
   ]
  },
  {
   "cell_type": "code",
   "execution_count": 4,
   "id": "87eae408",
   "metadata": {
    "executionInfo": {
     "elapsed": 3,
     "status": "ok",
     "timestamp": 1755539052086,
     "user": {
      "displayName": "Omar Aguilar",
      "userId": "07112979418391027605"
     },
     "user_tz": -120
    },
    "id": "87eae408"
   },
   "outputs": [],
   "source": [
    "bn.MAX_SAMPLES_BAYES = 100\n",
    "bn.BATCH_SIZE        = 64\n",
    "bn.EPOCHS            = 3\n",
    "bn.LR                = 1e-3\n",
    "\n",
    "bn.MAX_SAMPLES       = 100\n",
    "bn.CHAIN_LENGTH      = 8\n",
    "bn.FEATURE_DIM       = 128\n",
    "\n",
    "bn.TERM_WEIGHT       = 0.7\n",
    "bn.TYPE_WEIGHT       = 0.3\n",
    "bn.GOAL_TERM         = \"t - u*x/c**2\"\n",
    "bn.GOAL_TYPE         = Art & Emp\n",
    "bn.TARGET_TERM       = \"f(-k*y + t*w - k*u*x/c)\"\n",
    "\n",
    "bn.MIX_BASE          = 0.1\n",
    "\n",
    "bn.BACKWARD_NAMES               = {\"BWD\"}\n",
    "bn.ENABLE_NO_REPEAT             = True # False\n",
    "bn.ENABLE_SUB1_CONSTRAINT       = True # False\n",
    "bn.ENABLE_SIM_SIMPUS_CONSTRAINT = True # False\n",
    "bn.ENABLE_SIMPUS_SIM_CONSTRAINT = True # False\n",
    "bn.ENABLE_BACKWARD_GATE         = True # False\n",
    "bn.ENABLE_BACKWARD_ONLY_MODE    = False"
   ]
  },
  {
   "cell_type": "markdown",
   "id": "noq3jht5N6vN",
   "metadata": {
    "id": "noq3jht5N6vN"
   },
   "source": [
    "## Neural network"
   ]
  },
  {
   "cell_type": "code",
   "execution_count": 5,
   "id": "22497003",
   "metadata": {
    "colab": {
     "base_uri": "https://localhost:8080/"
    },
    "executionInfo": {
     "elapsed": 17730,
     "status": "ok",
     "timestamp": 1755539069819,
     "user": {
      "displayName": "Omar Aguilar",
      "userId": "07112979418391027605"
     },
     "user_tz": -120
    },
    "id": "22497003",
    "outputId": "0b0d4a5d-fb29-4566-84c1-82e4feab7d55"
   },
   "outputs": [
    {
     "name": "stderr",
     "output_type": "stream",
     "text": [
      "/content/drive/My Drive/einstein_program_synthesis/scripts/bayes_neural_search.py:194: UserWarning: Creating a tensor from a list of numpy.ndarrays is extremely slow. Please consider converting the list to a single numpy.ndarray with numpy.array() before converting to a tensor. (Triggered internally at /pytorch/torch/csrc/utils/tensor_new.cpp:254.)\n",
      "  return torch.tensor(S), torch.tensor(A)\n"
     ]
    },
    {
     "name": "stdout",
     "output_type": "stream",
     "text": [
      "Epoch  0  policy_loss=1.6905\n",
      "Epoch  1  policy_loss=1.6429\n",
      "Epoch  2  policy_loss=1.6041\n"
     ]
    }
   ],
   "source": [
    "net = bn.train_policy()"
   ]
  },
  {
   "cell_type": "markdown",
   "id": "1GaqYOw-N_-Q",
   "metadata": {
    "id": "1GaqYOw-N_-Q"
   },
   "source": [
    "## Search"
   ]
  },
  {
   "cell_type": "code",
   "execution_count": null,
   "id": "d125b366",
   "metadata": {
    "colab": {
     "base_uri": "https://localhost:8080/"
    },
    "executionInfo": {
     "elapsed": 37795,
     "status": "ok",
     "timestamp": 1755539107638,
     "user": {
      "displayName": "Omar Aguilar",
      "userId": "07112979418391027605"
     },
     "user_tz": -120
    },
    "id": "d125b366",
    "outputId": "40528835-f9f0-4a42-d8b9-7de4b1d6ff0c"
   },
   "outputs": [
    {
     "name": "stdout",
     "output_type": "stream",
     "text": [
      "Program 1: SUB1 + SIM+ + SIM  →  t - u*x/c**2 : Art\n",
      "Program 2: FWD + SIM+ + SIM + SUB1 + BWD + BWD  →  f(-k*y + t*w - u*w*x/c**2) : Art\n",
      "Program 3: SUB1 + FWD + SIM+ + SIM  →  f(-k*y + t*w - u*w*x/c**2) : Art\n",
      "Program 4: SUB1 + SIM+ + FWD + SIM  →  f(-k*y + w*(t - u*x/c**2)) : Art\n",
      "Program 5: SIM+ + FWD + SUB1 + SIM  →  f(c*k*(t - u*x/c**2) - k*y) : Art\n",
      "Program 6: FWD + SUB1 + SIM + SIM+  →  f(k*(c**2*t - c*y - u*x)/c) : Art\n",
      "Program 7: SIM+ + SUB1 + SIM  →  t - u*x/c**2 : Art\n",
      "Program 8: SIM + SUB1  →  t - u*x/c**2 : Art\n",
      "Program 9: FWD + SUB1 + SIM+ + SIM  →  f(k*(c**2*t - c*y - u*x)/c) : Art\n",
      "Program 10: SIM + SUB1 + SIM+  →  t - u*x/c**2 : Art\n",
      "Program 11: FWD + SUB1 + SIM+  →  f(k*(c**2*t - c*y - u*x)/c) : Art\n",
      "Program 12: FWD + SIM + SIM+ + SUB1 + CHG + BWD  →  f(-k*y + t*w - k*u*x/c) : (Art ∧ Emp)\n",
      "Program 13: SIM  →  t - u*x/c**2 : Art\n",
      "Program 14: SIM+ + SIM + SUB1  →  t - u*x/c**2 : Art\n",
      "Program 15: SUB1 + SIM + SIM+  →  t - u*x/c**2 : Art\n",
      "Program 16: FWD + SIM+ + SUB1 + BWD + BWD + SIM  →  f(-k*y + w*(t - u*x/c**2)) : Art\n",
      "Program 17: SIM + SIM+ + SUB1  →  t - u*x/c**2 : Art\n",
      "Program 18: SUB1 + FWD + SIM + SIM+  →  f(-k*y + t*w - u*w*x/c**2) : Art\n",
      "Program 19: FWD + SIM+ + SIM + SUB1 + CHG + BWD + BWD + BWD  →  f(-k*y + t*w - u*w*x/c**2) : (Art ∧ Emp)\n",
      "Program 20: FWD + SIM+ + SIM  →  f(-k*y + t*w - u*w*x/c**2) : Art\n",
      "Program 21: FWD + SIM + SIM+ + SUB1 + CHG + BWD + BWD + BWD  →  f(-k*y + w*(t - u*x/c**2)) : (Art ∧ Emp)\n",
      "Program 22: FWD + SIM + SIM+ + SUB1 + BWD  →  f(-k*y + t*w - u*w*x/c**2) : Art\n",
      "Program 23: FWD + SIM + SUB1 + SIM+  →  f(k*(c**2*t - c*y - u*x)/c) : Art\n",
      "Program 24: FWD + SIM+ + SIM + SUB1 + CHG + BWD  →  f(-k*y + t*w - k*u*x/c) : (Art ∧ Emp)\n",
      "Program 25: SIM+ + FWD + SIM + SUB1  →  f(c*k*(t - u*x/c**2) - k*y) : Art\n",
      "Program 26: SIM+ + SUB1 + FWD + SIM  →  f(-k*y + w*(t - u*x/c**2)) : Art\n",
      "Program 27: SUB1 + FWD + SIM  →  f(-k*y + w*(t - u*x/c**2)) : Art\n",
      "Program 28: FWD + SIM+ + SUB1 + CHG + SIM + BWD + BWD + BWD  →  f(-k*y + t*w - u*w*x/c**2) : (Art ∧ Emp)\n",
      "Program 29: SIM+ + FWD + SUB1  →  f(c*k*(t - u*x/c**2) - k*y) : Art\n",
      "Program 30: FWD + SUB1  →  f(c*k*(t - u*x/c**2) - k*y) : Art\n",
      "Program 31: SUB1 + SIM  →  t - u*x/c**2 : Art\n",
      "Program 32: FWD + SIM+ + SIM + SUB1 + BWD + BWD + BWD  →  f(-k*y + w*(t - u*x/c**2)) : Art\n",
      "Program 33: FWD + SUB1 + SIM  →  f(c*k*(t - u*x/c**2) - k*y) : Art\n",
      "Program 34: FWD + SIM+ + SIM + SUB1  →  f(-k*y + t*w - k*u*x/c) : Art\n",
      "Program 35: SIM + SIM+  →  t - u*x/c**2 : Art\n",
      "Program 36: FWD + SIM + SIM+ + SUB1  →  f(-k*y + t*w - k*u*x/c) : Art\n",
      "Program 37: FWD + SIM + SIM+ + SUB1 + CHG + BWD + BWD  →  f(-k*y + t*w - u*w*x/c**2) : (Art ∧ Emp)\n",
      "Program 38: SIM+ + SIM  →  t - u*x/c**2 : Art\n",
      "Program 39: FWD + SIM+ + SUB1 + CHG + BWD + SIM  →  f(-k*y + t*w - k*u*x/c) : (Art ∧ Emp)\n",
      "Program 40: SIM+ + SUB1 + FWD  →  f(-k*y + w*(t - u*x/c**2)) : Art\n",
      "Program 41: FWD + SIM + SUB1  →  f(c*k*(t - u*x/c**2) - k*y) : Art\n",
      "Program 42: FWD + SIM + SIM+ + SUB1 + BWD + BWD + BWD  →  f(-k*y + w*(t - u*x/c**2)) : Art\n",
      "Program 43: FWD + SIM + SIM+ + SUB1 + BWD + BWD  →  f(-k*y + w*(t - u*x/c**2)) : Art\n",
      "Program 44: SIM+ + FWD + SIM  →  f(-k*y + w*(t - u*x/c**2)) : Art\n",
      "Program 45: FWD + SIM+ + SUB1 + BWD  →  f(-k*y + t*w - u*w*x/c**2) : Art\n",
      "Program 46: FWD + SIM+ + SIM + SUB1 + BWD  →  f(-k*y + t*w - u*w*x/c**2) : Art\n",
      "Program 47: FWD + SIM+ + SIM + SUB1 + CHG + BWD + BWD  →  f(-k*y + t*w - u*w*x/c**2) : (Art ∧ Emp)\n",
      "Program 48: FWD + SIM+ + SUB1 + CHG + SIM + BWD + BWD  →  f(-k*y + t*w - k*u*x/c) : (Art ∧ Emp)\n",
      "Program 49: SUB1 + FWD + SIM+  →  f(-k*y + t*w - u*w*x/c**2) : Art\n",
      "Program 50: FWD + SIM+ + SUB1 + SIM + CHG + BWD + BWD  →  f(-k*y + t*w - k*u*x/c) : (Art ∧ Emp)\n",
      "Program 51: SUB1 + SIM+ + FWD  →  f(-k*y + w*(t - u*x/c**2)) : Art\n",
      "Program 52: SUB1 + SIM+  →  t - u*x/c**2 : Art\n",
      "Program 53: FWD + SIM+ + SUB1 + CHG + BWD + SIM + BWD  →  f(-k*y + t*w - k*u*x/c) : (Art ∧ Emp)\n",
      "Program 54: FWD + SIM+ + SUB1 + BWD + SIM  →  f(-k*y + t*w - u*w*x/c**2) : Art\n",
      "Program 55: FWD + SIM+ + SUB1 + SIM + BWD + CHG + BWD + BWD  →  f(-k*y + t*w - u*w*x/c**2) : (Art ∧ Emp)\n",
      "Program 56: FWD + SIM + SIM+  →  f(-k*y + t*w - u*w*x/c**2) : Art\n",
      "Program 57: FWD + SIM+ + SUB1 + SIM + CHG + BWD + BWD + BWD  →  f(-k*y + t*w - u*w*x/c**2) : (Art ∧ Emp)\n",
      "Program 58: FWD + SIM+ + SUB1 + CHG + BWD + BWD + SIM + BWD  →  f(-k*y + t*w - u*w*x/c**2) : (Art ∧ Emp)\n",
      "Program 59: FWD + SIM + SIM+ + SUB1 + CHG  →  f(-k*y + t*w - k*u*x/c) : (Art ∧ Emp)\n",
      "Program 60: FWD + SIM+ + SUB1 + CHG + BWD + BWD  →  f(-k*y + t*w - u*w*x/c**2) : (Art ∧ Emp)\n",
      "Program 61: FWD + SIM+ + SUB1 + SIM + CHG + BWD  →  f(-k*y + t*w - k*u*x/c) : (Art ∧ Emp)\n",
      "Program 62: FWD + SIM+ + SUB1 + SIM + BWD + BWD + BWD  →  f(-k*y + w*(t - u*x/c**2)) : Art\n",
      "Program 63: FWD  →  f(-k*y + w*(t - u*x/c**2)) : Art\n",
      "Program 64: FWD + SIM+ + SUB1 + SIM + BWD + BWD  →  f(-k*y + t*w - u*w*x/c**2) : Art\n",
      "Program 65: FWD + SIM+ + SUB1 + BWD + SIM + BWD  →  f(-k*y + t*w - u*w*x/c**2) : Art\n",
      "Program 66: FWD + SIM+ + SUB1 + BWD + BWD  →  f(-k*y + w*(t - u*x/c**2)) : Art\n",
      "Program 67: FWD + SIM+ + SIM + SUB1 + CHG  →  f(-k*y + t*w - k*u*x/c) : (Art ∧ Emp)\n",
      "Program 68: FWD + SIM+ + SUB1 + BWD + BWD + BWD  →  t - u*x/c**2 : Art\n",
      "Program 69: FWD + SIM+ + SUB1 + SIM  →  f(-k*y + t*w - k*u*x/c) : Art\n",
      "Program 70: FWD + SIM+ + SIM + SUB1 + BWD + BWD + BWD + BWD  →  t - u*x/c**2 : Art\n",
      "Program 71: FWD + SIM+ + SUB1 + BWD + SIM + BWD + BWD  →  f(-k*y + w*(t - u*x/c**2)) : Art\n",
      "Program 72: FWD + SIM+ + SUB1 + CHG + SIM  →  f(-k*y + t*w - k*u*x/c) : (Art ∧ Emp)\n",
      "Program 73: FWD + SIM+ + SUB1 + CHG + BWD + SIM + BWD + BWD  →  f(-k*y + t*w - u*w*x/c**2) : (Art ∧ Emp)\n",
      "Program 74: FWD + SIM+ + SUB1 + CHG + SIM + BWD  →  f(-k*y + t*w - k*u*x/c) : (Art ∧ Emp)\n",
      "Program 75: FWD + SIM+ + SUB1 + CHG + BWD  →  f(-k*y + t*w - k*u*x/c) : (Art ∧ Emp)\n",
      "Program 76: SIM+ + FWD  →  f(-k*y + w*(t - u*x/c**2)) : Art\n",
      "Program 77: FWD + SIM+ + SUB1 + BWD + BWD + BWD + SIM  →  t - u*x/c**2 : Art\n",
      "Program 78: FWD + SIM+ + SUB1 + SIM + BWD + CHG + BWD  →  f(-k*y + t*w - k*u*x/c) : (Art ∧ Emp)\n",
      "Program 79: SUB1 + FWD  →  f(-k*y + w*(t - u*x/c**2)) : Art\n",
      "Program 80: FWD + SIM+ + SUB1 + CHG  →  f(-k*y + t*w - k*u*x/c) : (Art ∧ Emp)\n",
      "Program 81: SIM+ + SUB1  →  t - u*x/c**2 : Art\n",
      "Program 82: FWD + SIM+ + SUB1 + SIM + BWD + BWD + BWD + BWD  →  t - u*x/c**2 : Art\n",
      "Program 83: FWD + SIM+ + SUB1 + BWD + BWD + SIM + BWD  →  f(-k*y + w*(t - u*x/c**2)) : Art\n",
      "Program 84: FWD + SIM+ + SUB1 + CHG + BWD + BWD + BWD  →  f(-k*y + w*(t - u*x/c**2)) : (Art ∧ Emp)\n",
      "Program 85: FWD + SIM+ + SUB1  →  f(-k*y + t*w - k*u*x/c) : Art\n",
      "Program 86: FWD + SIM  →  f(-k*y + w*(t - u*x/c**2)) : Art\n",
      "Program 87: FWD + SIM + SIM+ + SUB1 + BWD + BWD + BWD + BWD  →  t - u*x/c**2 : Art\n",
      "Program 88: FWD + SIM+  →  f(-k*y + t*w - u*w*x/c**2) : Art\n",
      "Program 89: FWD + SIM+ + SUB1 + CHG + BWD + BWD + SIM  →  f(-k*y + t*w - u*w*x/c**2) : (Art ∧ Emp)\n",
      "Program 90: FWD + SIM+ + SUB1 + SIM + BWD  →  f(-k*y + t*w - k*u*x/c) : Art\n",
      "Program 91: FWD + SIM+ + SUB1 + BWD + BWD + BWD + SIM + BWD  →  t - u*x/c**2 : Art\n",
      "Program 92: FWD + SIM+ + SUB1 + SIM + BWD + CHG  →  f(-k*y + t*w - k*u*x/c) : (Art ∧ Emp)\n",
      "Program 93: FWD + SIM+ + SUB1 + CHG + BWD + BWD + BWD + BWD  →  t - u*x/c**2 : (Art ∧ Emp)\n",
      "✅ Hybrid hit goal at 93\n"
     ]
    }
   ],
   "source": [
    "results = bn.run_one_experiment_paths(net, max_samples=bn.MAX_SAMPLES, print_trace=1)"
   ]
  },
  {
   "cell_type": "code",
   "execution_count": 7,
   "id": "xTwzEc7DL2nB",
   "metadata": {
    "colab": {
     "base_uri": "https://localhost:8080/"
    },
    "executionInfo": {
     "elapsed": 16,
     "status": "ok",
     "timestamp": 1755539107657,
     "user": {
      "displayName": "Omar Aguilar",
      "userId": "07112979418391027605"
     },
     "user_tz": -120
    },
    "id": "xTwzEc7DL2nB",
    "outputId": "6ead0174-0053-4bfc-ded8-365d46260779"
   },
   "outputs": [
    {
     "data": {
      "text/plain": [
       "93"
      ]
     },
     "execution_count": 7,
     "metadata": {},
     "output_type": "execute_result"
    }
   ],
   "source": [
    "results"
   ]
  },
  {
   "cell_type": "code",
   "execution_count": 7,
   "id": "8lWcwKEuL3Dy",
   "metadata": {
    "executionInfo": {
     "elapsed": 3,
     "status": "ok",
     "timestamp": 1755539107664,
     "user": {
      "displayName": "Omar Aguilar",
      "userId": "07112979418391027605"
     },
     "user_tz": -120
    },
    "id": "8lWcwKEuL3Dy"
   },
   "outputs": [],
   "source": []
  }
 ],
 "metadata": {
  "accelerator": "GPU",
  "colab": {
   "gpuType": "A100",
   "machine_shape": "hm",
   "provenance": []
  },
  "kernelspec": {
   "display_name": "Python 3",
   "name": "python3"
  },
  "language_info": {
   "codemirror_mode": {
    "name": "ipython",
    "version": 3
   },
   "file_extension": ".py",
   "mimetype": "text/x-python",
   "name": "python",
   "nbconvert_exporter": "python",
   "pygments_lexer": "ipython3",
   "version": "3.10.16"
  }
 },
 "nbformat": 4,
 "nbformat_minor": 5
}
