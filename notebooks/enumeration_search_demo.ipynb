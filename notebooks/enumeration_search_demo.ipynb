{
  "cells": [
    {
      "cell_type": "code",
      "execution_count": 1,
      "id": "9f3a4263",
      "metadata": {
        "colab": {
          "base_uri": "https://localhost:8080/"
        },
        "id": "9f3a4263",
        "outputId": "250fbad9-4a55-42c6-8186-550aa6734cd2"
      },
      "outputs": [
        {
          "name": "stdout",
          "output_type": "stream",
          "text": [
            "Using repo path: /home/omar/Documents/Code/einstein_program_synthesis/scripts\n",
            "Exists? True\n",
            "Contains: ['synthesis_primitives.py', 'einstein_types.py', 'context.py', 'judgments.py', 'typing_rules.py', 'simplify.py', 'bayes_neural_search.py', 'pure_bayes_search.py', 'synthesis_state.py', 'enumeration_search.py']\n"
          ]
        }
      ],
      "source": [
        "import sys\n",
        "from pathlib import Path\n",
        "\n",
        "def in_colab():\n",
        "    try:\n",
        "        import google.colab  # noqa: F401\n",
        "        return True\n",
        "    except Exception:\n",
        "        return False\n",
        "\n",
        "if in_colab():\n",
        "    from google.colab import drive\n",
        "    drive.mount(\"/content/drive\")\n",
        "    REPO_PATH = Path(\"/content/drive/My Drive/einstein_program_synthesis/scripts\")  # ← adjust if needed\n",
        "else:\n",
        "    REPO_PATH = Path.home() / \"Documents\" / \"Code\" / \"einstein_program_synthesis\" / \"scripts\"  # ← adjust\n",
        "\n",
        "sys.path.insert(0, str(REPO_PATH.resolve()))\n",
        "print(\"Using repo path:\", REPO_PATH.resolve())\n",
        "print(\"Exists?\", REPO_PATH.exists())\n",
        "print(\"Contains:\", [p.name for p in REPO_PATH.glob(\"*.py\")])\n"
      ]
    },
    {
      "cell_type": "markdown",
      "id": "c_BZ2xqCZJJS",
      "metadata": {
        "id": "c_BZ2xqCZJJS"
      },
      "source": [
        "# Enumeration search"
      ]
    },
    {
      "cell_type": "code",
      "execution_count": 2,
      "id": "c65df66d",
      "metadata": {
        "colab": {
          "base_uri": "https://localhost:8080/"
        },
        "id": "c65df66d",
        "outputId": "c43ca515-3bef-478f-c3d8-e829167306ff"
      },
      "outputs": [
        {
          "name": "stdout",
          "output_type": "stream",
          "text": [
            "module path: /home/omar/Documents/Code/einstein_program_synthesis/scripts/enumeration_search.py\n"
          ]
        }
      ],
      "source": [
        "import importlib\n",
        "import enumeration_search as es\n",
        "from einstein_types import Art, Emp\n",
        "\n",
        "es = importlib.reload(es)\n",
        "print(\"module path:\", es.__file__)\n"
      ]
    },
    {
      "cell_type": "markdown",
      "id": "v4e70HFSZNfJ",
      "metadata": {
        "id": "v4e70HFSZNfJ"
      },
      "source": [
        "## Search settings"
      ]
    },
    {
      "cell_type": "code",
      "execution_count": 3,
      "id": "4e3d765e",
      "metadata": {
        "id": "4e3d765e"
      },
      "outputs": [],
      "source": [
        "es.MAX_SAMPLES  = 200 # 1000\n",
        "es.CHAIN_LENGTH = 8\n",
        "es.USE_GREEDY   = False   # True = greedy; False = weighted\n",
        "\n",
        "es.TERM_WEIGHT  = 0.7\n",
        "es.TYPE_WEIGHT  = 0.3\n",
        "\n",
        "es.GOAL_TERM    = \"t - u*x/c**2\"\n",
        "es.GOAL_TYPE    = Art & Emp\n",
        "es.TARGET_TERM  = \"f(-k*y + t*w - k*u*x/c)\"\n",
        "\n",
        "es.BACKWARD_NAMES = {\"BWD\"}\n",
        "\n",
        "es.ENABLE_NO_REPEAT             = True # False\n",
        "es.ENABLE_SUB1_CONSTRAINT       = True # False\n",
        "es.ENABLE_SIM_SIMPUS_CONSTRAINT = True # False\n",
        "es.ENABLE_SIMPUS_SIM_CONSTRAINT = True # False\n",
        "es.ENABLE_BACKWARD_GATE         = True # False\n",
        "es.ENABLE_BACKWARD_ONLY_MODE    = False\n",
        "\n",
        "es.VERBOSE = True\n",
        "\n",
        "N_RUNS = 150"
      ]
    },
    {
      "cell_type": "markdown",
      "id": "0mOhCoiOZqJT",
      "metadata": {
        "id": "0mOhCoiOZqJT"
      },
      "source": [
        "## Search"
      ]
    },
    {
      "cell_type": "code",
      "execution_count": 4,
      "id": "28ff0463",
      "metadata": {
        "colab": {
          "base_uri": "https://localhost:8080/"
        },
        "id": "28ff0463",
        "outputId": "5d920b3b-69e7-476e-eb18-35ad755546b6"
      },
      "outputs": [
        {
          "name": "stdout",
          "output_type": "stream",
          "text": [
            "Run   1: ❌ not reached\n",
            "Run   2: ✅ reached at chain 129\n",
            "Run   3: ❌ not reached\n",
            "Run   4: ❌ not reached\n",
            "Run   5: ✅ reached at chain 51\n",
            "Run   6: ✅ reached at chain 58\n",
            "Run   7: ✅ reached at chain 125\n",
            "Run   8: ❌ not reached\n",
            "Run   9: ❌ not reached\n",
            "Run  10: ❌ not reached\n",
            "Run  11: ✅ reached at chain 121\n",
            "Run  12: ❌ not reached\n",
            "Run  13: ✅ reached at chain 176\n",
            "Run  14: ❌ not reached\n",
            "Run  15: ✅ reached at chain 185\n",
            "Run  16: ✅ reached at chain 129\n",
            "Run  17: ✅ reached at chain 52\n",
            "Run  18: ✅ reached at chain 179\n",
            "Run  19: ✅ reached at chain 193\n",
            "Run  20: ✅ reached at chain 88\n",
            "Run  21: ❌ not reached\n",
            "Run  22: ✅ reached at chain 100\n",
            "Run  23: ✅ reached at chain 69\n",
            "Run  24: ✅ reached at chain 180\n",
            "Run  25: ✅ reached at chain 76\n",
            "Run  26: ✅ reached at chain 72\n",
            "Run  27: ❌ not reached\n",
            "Run  28: ✅ reached at chain 90\n",
            "Run  29: ❌ not reached\n",
            "Run  30: ❌ not reached\n",
            "Run  31: ✅ reached at chain 69\n",
            "Run  32: ✅ reached at chain 87\n",
            "Run  33: ❌ not reached\n",
            "Run  34: ❌ not reached\n",
            "Run  35: ❌ not reached\n",
            "Run  36: ✅ reached at chain 125\n",
            "Run  37: ❌ not reached\n",
            "Run  38: ❌ not reached\n",
            "Run  39: ❌ not reached\n",
            "Run  40: ✅ reached at chain 172\n",
            "Run  41: ❌ not reached\n",
            "Run  42: ✅ reached at chain 186\n",
            "Run  43: ✅ reached at chain 113\n",
            "Run  44: ✅ reached at chain 59\n",
            "Run  45: ✅ reached at chain 183\n",
            "Run  46: ❌ not reached\n",
            "Run  47: ✅ reached at chain 130\n",
            "Run  48: ✅ reached at chain 124\n",
            "Run  49: ❌ not reached\n",
            "Run  50: ✅ reached at chain 131\n",
            "Run  51: ✅ reached at chain 76\n",
            "Run  52: ❌ not reached\n",
            "Run  53: ❌ not reached\n",
            "Run  54: ✅ reached at chain 30\n",
            "Run  55: ❌ not reached\n",
            "Run  56: ❌ not reached\n",
            "Run  57: ✅ reached at chain 125\n",
            "Run  58: ✅ reached at chain 110\n",
            "Run  59: ✅ reached at chain 55\n",
            "Run  60: ❌ not reached\n",
            "Run  61: ❌ not reached\n",
            "Run  62: ❌ not reached\n",
            "Run  63: ❌ not reached\n",
            "Run  64: ✅ reached at chain 192\n",
            "Run  65: ✅ reached at chain 154\n",
            "Run  66: ❌ not reached\n",
            "Run  67: ❌ not reached\n",
            "Run  68: ✅ reached at chain 96\n",
            "Run  69: ❌ not reached\n",
            "Run  70: ❌ not reached\n",
            "Run  71: ✅ reached at chain 182\n",
            "Run  72: ✅ reached at chain 56\n",
            "Run  73: ❌ not reached\n",
            "Run  74: ❌ not reached\n",
            "Run  75: ❌ not reached\n",
            "Run  76: ❌ not reached\n",
            "Run  77: ❌ not reached\n",
            "Run  78: ❌ not reached\n",
            "Run  79: ❌ not reached\n",
            "Run  80: ❌ not reached\n",
            "Run  81: ✅ reached at chain 104\n",
            "Run  82: ❌ not reached\n",
            "Run  83: ❌ not reached\n",
            "Run  84: ✅ reached at chain 131\n",
            "Run  85: ✅ reached at chain 64\n",
            "Run  86: ❌ not reached\n",
            "Run  87: ❌ not reached\n",
            "Run  88: ✅ reached at chain 138\n",
            "Run  89: ❌ not reached\n",
            "Run  90: ❌ not reached\n",
            "Run  91: ❌ not reached\n",
            "Run  92: ❌ not reached\n",
            "Run  93: ✅ reached at chain 177\n",
            "Run  94: ❌ not reached\n",
            "Run  95: ✅ reached at chain 12\n",
            "Run  96: ✅ reached at chain 70\n",
            "Run  97: ❌ not reached\n",
            "Run  98: ✅ reached at chain 62\n",
            "Run  99: ✅ reached at chain 74\n",
            "Run 100: ✅ reached at chain 109\n",
            "Run 101: ✅ reached at chain 200\n",
            "Run 102: ✅ reached at chain 182\n",
            "Run 103: ❌ not reached\n",
            "Run 104: ❌ not reached\n",
            "Run 105: ✅ reached at chain 110\n",
            "Run 106: ✅ reached at chain 152\n",
            "Run 107: ✅ reached at chain 144\n",
            "Run 108: ✅ reached at chain 47\n",
            "Run 109: ❌ not reached\n",
            "Run 110: ✅ reached at chain 70\n",
            "Run 111: ✅ reached at chain 119\n",
            "Run 112: ❌ not reached\n",
            "Run 113: ✅ reached at chain 156\n",
            "Run 114: ✅ reached at chain 78\n",
            "Run 115: ❌ not reached\n",
            "Run 116: ✅ reached at chain 41\n",
            "Run 117: ❌ not reached\n",
            "Run 118: ❌ not reached\n",
            "Run 119: ❌ not reached\n",
            "Run 120: ❌ not reached\n",
            "Run 121: ❌ not reached\n",
            "Run 122: ❌ not reached\n",
            "Run 123: ❌ not reached\n",
            "Run 124: ✅ reached at chain 171\n",
            "Run 125: ✅ reached at chain 186\n",
            "Run 126: ❌ not reached\n",
            "Run 127: ❌ not reached\n",
            "Run 128: ❌ not reached\n",
            "Run 129: ✅ reached at chain 102\n",
            "Run 130: ❌ not reached\n",
            "Run 131: ❌ not reached\n",
            "Run 132: ✅ reached at chain 110\n",
            "Run 133: ❌ not reached\n",
            "Run 134: ✅ reached at chain 179\n",
            "Run 135: ❌ not reached\n",
            "Run 136: ✅ reached at chain 100\n",
            "Run 137: ✅ reached at chain 25\n",
            "Run 138: ✅ reached at chain 113\n",
            "Run 139: ✅ reached at chain 135\n",
            "Run 140: ❌ not reached\n",
            "Run 141: ✅ reached at chain 200\n",
            "Run 142: ✅ reached at chain 50\n",
            "Run 143: ✅ reached at chain 147\n",
            "Run 144: ❌ not reached\n",
            "Run 145: ✅ reached at chain 72\n",
            "Run 146: ✅ reached at chain 133\n",
            "Run 147: ❌ not reached\n",
            "Run 148: ❌ not reached\n",
            "Run 149: ✅ reached at chain 197\n",
            "Run 150: ✅ reached at chain 199\n",
            "\n",
            "→ 76/150 runs reached the goal.\n",
            "\n",
            "=== PROFILING RESULTS ===\n",
            "         13665861615 function calls (13454497930 primitive calls) in 5323.753 seconds\n",
            "\n",
            "   Ordered by: cumulative time\n",
            "   List reduced from 1125 to 20 due to restriction <20>\n",
            "\n",
            "   ncalls  tottime  percall  cumtime  percall filename:lineno(function)\n",
            "        2    0.000    0.000 5706.489 2853.244 interactiveshell.py:3541(run_code)\n",
            "3856622/2   73.522    0.000 5706.489 2853.244 {built-in method builtins.exec}\n",
            "        1    0.001    0.001 5706.489 5706.489 3653939804.py:1(<module>)\n",
            "        1    0.009    0.009 5706.488 5706.488 enumeration_search.py:233(run_experiments)\n",
            "      150    1.691    0.011 5706.468   38.043 enumeration_search.py:208(run_one_experiment)\n",
            "   237262   38.713    0.000 5704.131    0.024 enumeration_search.py:77(weighted_chain)\n",
            "  5317024    9.022    0.000 5282.727    0.001 synthesis_primitives.py:27(_inner)\n",
            "  3856582  102.202    0.000 3252.920    0.001 sympy_parser.py:914(parse_expr)\n",
            "38293387/37042939   90.163    0.000 2311.086    0.000 sympify.py:98(sympify)\n",
            "  2522837    5.100    0.000 2241.864    0.001 judgments.py:15(__init__)\n",
            "  1432431    1.415    0.000 1668.410    0.001 synthesis_primitives.py:40(<lambda>)\n",
            "  1432431    6.538    0.000 1666.996    0.001 typing_rules.py:70(concept_change_rule)\n",
            "  2823617    5.041    0.000 1645.508    0.001 expr.py:373(__format__)\n",
            "  2823617    2.246    0.000 1637.369    0.001 {function Expr.__format__ at 0x7fb9f3ef52d0}\n",
            "2826951/2826949   10.419    0.000 1635.153    0.001 _print_helpers.py:27(__str__)\n",
            "2826951/2826949    4.806    0.000 1624.734    0.001 printer.py:371(__call__)\n",
            "2826951/2826949    4.261    0.000 1619.928    0.001 str.py:977(sstr)\n",
            "2826951/2826949    3.175    0.000 1601.135    0.001 printer.py:290(doprint)\n",
            "32713551/2826949   78.712    0.000 1597.960    0.001 printer.py:294(_print)\n",
            "  1375087    1.558    0.000 1584.504    0.001 synthesis_primitives.py:34(<lambda>)\n",
            "\n",
            "\n",
            "\n",
            "\n",
            "✅ Total elapsed time: 5759.60 seconds\n"
          ]
        }
      ],
      "source": [
        "import cProfile, pstats, io, time\n",
        "\n",
        "t0 = time.perf_counter()\n",
        "pr = cProfile.Profile(); pr.enable()\n",
        "\n",
        "results = es.run_experiments(\n",
        "    N_RUNS,\n",
        "    max_samples=es.MAX_SAMPLES,\n",
        "    parallel=False\n",
        ")\n",
        "\n",
        "pr.disable()\n",
        "s = io.StringIO()\n",
        "pstats.Stats(pr, stream=s).strip_dirs().sort_stats(\"cumtime\").print_stats(20)\n",
        "print(\"\\n=== PROFILING RESULTS ===\")\n",
        "print(s.getvalue())\n",
        "\n",
        "t1 = time.perf_counter()\n",
        "print(f\"\\n✅ Total elapsed time: {t1 - t0:.2f} seconds\")\n"
      ]
    },
    {
      "cell_type": "markdown",
      "id": "zUGLhkkpZuXH",
      "metadata": {
        "id": "zUGLhkkpZuXH"
      },
      "source": [
        "## Success indices at which goal is met"
      ]
    },
    {
      "cell_type": "code",
      "execution_count": 5,
      "id": "881c23f0",
      "metadata": {
        "id": "881c23f0"
      },
      "outputs": [
        {
          "name": "stdout",
          "output_type": "stream",
          "text": [
            "All program-indices at which the goal was met:\n",
            "[129, 51, 58, 125, 121, 176, 185, 129, 52, 179, 193, 88, 100, 69, 180, 76, 72, 90, 69, 87, 125, 172, 186, 113, 59, 183, 130, 124, 131, 76, 30, 125, 110, 55, 192, 154, 96, 182, 56, 104, 131, 64, 138, 177, 12, 70, 62, 74, 109, 200, 182, 110, 152, 144, 47, 70, 119, 156, 78, 41, 171, 186, 102, 110, 179, 100, 25, 113, 135, 200, 50, 147, 72, 133, 197, 199]\n"
          ]
        }
      ],
      "source": [
        "success_indices_enum = [r for r in results if r is not None]\n",
        "print(\"All program-indices at which the goal was met:\")\n",
        "print(success_indices_enum)\n"
      ]
    },
    {
      "cell_type": "markdown",
      "id": "qfRKNwoTZysv",
      "metadata": {
        "id": "qfRKNwoTZysv"
      },
      "source": [
        "## Save success indices"
      ]
    },
    {
      "cell_type": "code",
      "execution_count": 7,
      "id": "7a9b5d72",
      "metadata": {},
      "outputs": [
        {
          "name": "stdout",
          "output_type": "stream",
          "text": [
            "\n",
            "✅ Saved 76 indices to:\n",
            "/home/omar/Documents/Code/einstein_program_synthesis/output/success_indices_enum.csv\n"
          ]
        }
      ],
      "source": [
        "# Save success indices — works in Colab + VS Code/local\n",
        "import os\n",
        "from pathlib import Path\n",
        "import numpy as np\n",
        "\n",
        "def get_output_dir() -> Path:\n",
        "    # 1) explicit override via env var\n",
        "    env = os.getenv(\"EPS_OUTPUT_DIR\")\n",
        "    if env:\n",
        "        return Path(env).expanduser().resolve()\n",
        "\n",
        "    # 2) Colab (Drive mounted)\n",
        "    try:\n",
        "        import google.colab  # type: ignore\n",
        "        base = Path(\"/content/drive/MyDrive\")\n",
        "        if not base.exists():\n",
        "            base = Path(\"/content/drive/My Drive\")  # older mount name\n",
        "        return base / \"einstein_program_synthesis\" / \"output\"\n",
        "    except Exception:\n",
        "        pass\n",
        "\n",
        "    # 3) Local/VS Code: put outputs in repo_root/output (or CWD/output)\n",
        "    cwd = Path.cwd()\n",
        "    for p in [cwd, *cwd.parents]:\n",
        "        if (p / \".git\").exists() or (p / \"pyproject.toml\").exists() or (p / \"setup.cfg\").exists():\n",
        "            return p / \"output\"\n",
        "    return cwd / \"output\"\n",
        "\n",
        "output_dir = get_output_dir()\n",
        "output_dir.mkdir(parents=True, exist_ok=True)\n",
        "\n",
        "out_path = output_dir / \"success_indices_enum.csv\"\n",
        "np.savetxt(\n",
        "    out_path,\n",
        "    success_indices_enum,\n",
        "    fmt=\"%d\",\n",
        "    header=\"success_index\",\n",
        "    delimiter=\",\",\n",
        "    comments=\"\"\n",
        ")\n",
        "\n",
        "print(f\"\\n✅ Saved {len(success_indices_enum)} indices to:\\n{out_path}\")\n"
      ]
    },
    {
      "cell_type": "markdown",
      "id": "Q1Y70BeOaS8I",
      "metadata": {
        "id": "Q1Y70BeOaS8I"
      },
      "source": [
        "## Calculate statistics"
      ]
    },
    {
      "cell_type": "code",
      "execution_count": 8,
      "id": "JdITF4rf6zzJ",
      "metadata": {
        "id": "JdITF4rf6zzJ"
      },
      "outputs": [
        {
          "name": "stdout",
          "output_type": "stream",
          "text": [
            "{'n': 76, 'mean': 116.9342105263158, 'std': 50.7005155861531, 'cv': 0.4335815443397812, 'median': 116.0, 'iqr': 87.75, 'q25': 72.0, 'q75': 159.75, 'p50': 116.0, 'p90': 185.5, 'p95': 194.0, 'min': 12.0, 'max': 200.0}\n"
          ]
        }
      ],
      "source": [
        "import numpy as np\n",
        "\n",
        "def summarize(results):\n",
        "    # keep numeric, non-None, non-NaN entries\n",
        "    arr = np.array([x for x in results if x is not None and not (isinstance(x, float) and np.isnan(x))], dtype=float)\n",
        "    n = arr.size\n",
        "    if n == 0:\n",
        "        return {\n",
        "            \"n\": 0,\n",
        "            \"mean\": None, \"std\": None, \"cv\": None,\n",
        "            \"median\": None, \"iqr\": None,\n",
        "            \"q25\": None, \"q75\": None,\n",
        "            \"p50\": None, \"p90\": None, \"p95\": None,\n",
        "            \"min\": None, \"max\": None,\n",
        "        }\n",
        "\n",
        "    mean = float(arr.mean())\n",
        "    std  = float(arr.std(ddof=1)) if n > 1 else 0.0  # sample std if possible\n",
        "    q25  = float(np.quantile(arr, 0.25))\n",
        "    med  = float(np.quantile(arr, 0.50))\n",
        "    q75  = float(np.quantile(arr, 0.75))\n",
        "    iqr  = float(q75 - q25)\n",
        "\n",
        "    stats = {\n",
        "        \"n\": n,\n",
        "        \"mean\": mean,\n",
        "        \"std\": std,\n",
        "        \"cv\": (float(std/mean) if mean != 0 else None),\n",
        "        \"median\": med,\n",
        "        \"iqr\": iqr,\n",
        "        \"q25\": q25,\n",
        "        \"q75\": q75,\n",
        "        \"p50\": med,\n",
        "        \"p90\": float(np.percentile(arr, 90)),\n",
        "        \"p95\": float(np.percentile(arr, 95)),\n",
        "        \"min\": float(arr.min()),\n",
        "        \"max\": float(arr.max()),\n",
        "    }\n",
        "    return stats\n",
        "\n",
        "stats = summarize(results)\n",
        "print(stats)\n"
      ]
    },
    {
      "cell_type": "markdown",
      "id": "8XfxUILHai6z",
      "metadata": {
        "id": "8XfxUILHai6z"
      },
      "source": [
        "## Save statistics"
      ]
    },
    {
      "cell_type": "code",
      "execution_count": null,
      "id": "64aaba1f",
      "metadata": {},
      "outputs": [
        {
          "name": "stdout",
          "output_type": "stream",
          "text": [
            "\n",
            "✅ Saved Bayes-Neural stats to:\n",
            "/home/omar/Documents/Code/einstein_program_synthesis/output/bayes_neural_stats.csv\n"
          ]
        }
      ],
      "source": [
        "# Save Bayes-Neural statistics — Colab + VS Code/local\n",
        "import os, csv\n",
        "from pathlib import Path\n",
        "\n",
        "def get_output_dir() -> Path:\n",
        "    # 1) explicit override via env var\n",
        "    env = os.getenv(\"EPS_OUTPUT_DIR\")\n",
        "    if env:\n",
        "        return Path(env).expanduser().resolve()\n",
        "\n",
        "    # 2) Colab (Drive mounted)\n",
        "    try:\n",
        "        import google.colab  # type: ignore\n",
        "        base = Path(\"/content/drive/MyDrive\")\n",
        "        if not base.exists():\n",
        "            base = Path(\"/content/drive/My Drive\")  # older mount name\n",
        "        return base / \"einstein_program_synthesis\" / \"output\"\n",
        "    except Exception:\n",
        "        pass\n",
        "\n",
        "    # 3) Local/VS Code: repo root's output/ (fallback to CWD/output)\n",
        "    cwd = Path.cwd()\n",
        "    for p in [cwd, *cwd.parents]:\n",
        "        if (p / \".git\").exists() or (p / \"pyproject.toml\").exists() or (p / \"setup.cfg\").exists():\n",
        "            return p / \"output\"\n",
        "    return cwd / \"output\"\n",
        "\n",
        "output_dir = get_output_dir()\n",
        "output_dir.mkdir(parents=True, exist_ok=True)\n",
        "\n",
        "csv_path = output_dir / \"enum_stats.csv\"\n",
        "\n",
        "# stable ordering for columns\n",
        "cols = [\"n\",\"mean\",\"std\",\"cv\",\"median\",\"iqr\",\"q25\",\"q75\",\"p50\",\"p90\",\"p95\",\"min\",\"max\"]\n",
        "\n",
        "with open(csv_path, \"w\", newline=\"\", encoding=\"utf-8\") as fp:\n",
        "    writer = csv.writer(fp)\n",
        "    writer.writerow(cols)\n",
        "    writer.writerow([stats.get(c, \"\") for c in cols])  # uses empty if missing\n",
        "\n",
        "print(f\"\\n✅ Saved Bayes-Neural stats to:\\n{csv_path}\")\n"
      ]
    },
    {
      "cell_type": "markdown",
      "id": "ePCbjtltaso9",
      "metadata": {
        "id": "ePCbjtltaso9"
      },
      "source": [
        "## Plot success rate versus program index"
      ]
    },
    {
      "cell_type": "code",
      "execution_count": null,
      "id": "QGtow1V5avHf",
      "metadata": {
        "id": "QGtow1V5avHf"
      },
      "outputs": [],
      "source": []
    },
    {
      "cell_type": "code",
      "execution_count": null,
      "id": "Po8zil8r665s",
      "metadata": {
        "id": "Po8zil8r665s"
      },
      "outputs": [
        {
          "data": {
            "image/png": "[encoded data removed]",
            "text/plain": [
              "<Figure size 640x480 with 1 Axes>"
            ]
          },
          "metadata": {},
          "output_type": "display_data"
        }
      ],
      "source": [
        "import numpy as np\n",
        "import matplotlib.pyplot as plt\n",
        "\n",
        "# Given success indices from this batch\n",
        "\n",
        "success_array = np.array(success_indices_enum, dtype=int)\n",
        "max_program = es.MAX_SAMPLES  # x-axis limit (your sampling budget)\n",
        "\n",
        "# X axis: program indices 1..max_program\n",
        "x = np.arange(1, max_program + 1)\n",
        "\n",
        "# Cumulative success rate at each program index k\n",
        "success_rate = np.array([(success_array <= k).sum() for k in x]) / max(N_RUNS, 1)\n",
        "\n",
        "# Plot\n",
        "plt.figure()\n",
        "plt.plot(x, success_rate)\n",
        "plt.xlabel(\"Program index\", fontsize=12)\n",
        "plt.ylabel(\"Success rate\", fontsize=12)\n",
        "# plt.title(\"Success Rate over Program Index\")\n",
        "\n",
        "# Bigger tick labels\n",
        "plt.xticks(fontsize=12)\n",
        "plt.yticks(fontsize=12)\n",
        "\n",
        "# Force x-axis from 0 to max_program\n",
        "plt.xlim(0, max_program)\n",
        "\n",
        "# Grid a bit darker/heavier (like your screenshot)\n",
        "plt.grid(\n",
        "    True,\n",
        "    color=\"#CCCCCC\",   # darker gray\n",
        "    linewidth=0.6,     # slightly thicker\n",
        "    linestyle='-.',    # dashed-dot\n",
        "    alpha=0.4          # more opaque\n",
        ")\n",
        "\n",
        "# Optional: remove top & right spines\n",
        "# ax = plt.gca()\n",
        "# ax.spines['top'].set_visible(False)\n",
        "# ax.spines['right'].set_visible(False)\n",
        "\n",
        "plt.tight_layout()\n",
        "plt.show()\n"
      ]
    },
    {
      "cell_type": "markdown",
      "id": "8xPbyNt0a44r",
      "metadata": {
        "id": "8xPbyNt0a44r"
      },
      "source": [
        "## Reset caches"
      ]
    },
    {
      "cell_type": "code",
      "execution_count": 12,
      "id": "ff4cdebb",
      "metadata": {
        "id": "ff4cdebb"
      },
      "outputs": [],
      "source": [
        "es.expr_to_str.cache_clear()"
      ]
    },
    {
      "cell_type": "code",
      "execution_count": null,
      "id": "94341ccd",
      "metadata": {
        "id": "94341ccd"
      },
      "outputs": [],
      "source": []
    }
  ],
  "metadata": {
    "colab": {
      "provenance": []
    },
    "kernelspec": {
      "display_name": "einstein_dsl",
      "language": "python",
      "name": "python3"
    },
    "language_info": {
      "codemirror_mode": {
        "name": "ipython",
        "version": 3
      },
      "file_extension": ".py",
      "mimetype": "text/x-python",
      "name": "python",
      "nbconvert_exporter": "python",
      "pygments_lexer": "ipython3",
      "version": "3.10.16"
    }
  },
  "nbformat": 4,
  "nbformat_minor": 5
}
