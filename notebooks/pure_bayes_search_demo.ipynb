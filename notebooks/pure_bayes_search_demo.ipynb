{
 "cells": [
  {
   "cell_type": "code",
   "execution_count": 1,
   "id": "b39c09a5",
   "metadata": {},
   "outputs": [
    {
     "name": "stdout",
     "output_type": "stream",
     "text": [
      "Using repo path: /home/omar/Documents/Code/einstein_program_synthesis/scripts\n",
      "Exists? True\n",
      "Contains: ['synthesis_primitives.py', 'einstein_types.py', 'context.py', 'judgments.py', 'typing_rules.py', 'simplify.py', 'bayes_neural_search.py', 'pure_bayes_search.py', 'synthesis_state.py', 'enumeration_search.py']\n"
     ]
    }
   ],
   "source": [
    "import sys\n",
    "from pathlib import Path\n",
    "\n",
    "def in_colab():\n",
    "    try:\n",
    "        import google.colab  # noqa: F401\n",
    "        return True\n",
    "    except Exception:\n",
    "        return False\n",
    "\n",
    "if in_colab():\n",
    "    from google.colab import drive\n",
    "    drive.mount(\"/content/drive\")\n",
    "    REPO_PATH = Path(\"/content/drive/My Drive/einstein_program_synthesis/scripts\")  # ← adjust if needed\n",
    "else:\n",
    "    REPO_PATH = Path.home() / \"Documents\" / \"Code\" / \"einstein_program_synthesis\" / \"scripts\"  # ← adjust\n",
    "\n",
    "sys.path.insert(0, str(REPO_PATH.resolve()))\n",
    "print(\"Using repo path:\", REPO_PATH.resolve())\n",
    "print(\"Exists?\", REPO_PATH.exists())\n",
    "print(\"Contains:\", [p.name for p in REPO_PATH.glob(\"*.py\")])\n"
   ]
  },
  {
   "cell_type": "markdown",
   "id": "lrumr_bTTmFl",
   "metadata": {
    "id": "lrumr_bTTmFl"
   },
   "source": [
    "# Pure bayes search"
   ]
  },
  {
   "cell_type": "code",
   "execution_count": 2,
   "id": "495e645f",
   "metadata": {
    "colab": {
     "base_uri": "https://localhost:8080/"
    },
    "executionInfo": {
     "elapsed": 8238,
     "status": "ok",
     "timestamp": 1755557441656,
     "user": {
      "displayName": "Omar Aguilar",
      "userId": "07112979418391027605"
     },
     "user_tz": -120
    },
    "id": "495e645f",
    "outputId": "48284a9d-010e-4751-d762-a7fbfb92eb08"
   },
   "outputs": [
    {
     "name": "stdout",
     "output_type": "stream",
     "text": [
      "module path: /home/omar/Documents/Code/einstein_program_synthesis/scripts/pure_bayes_search.py\n"
     ]
    }
   ],
   "source": [
    "import importlib\n",
    "import pure_bayes_search as pbs\n",
    "from einstein_types import Art, Emp\n",
    "\n",
    "pbs = importlib.reload(pbs)\n",
    "print(\"module path:\", pbs.__file__)"
   ]
  },
  {
   "cell_type": "markdown",
   "id": "xd3nK3X3UDHu",
   "metadata": {
    "id": "xd3nK3X3UDHu"
   },
   "source": [
    "## Search settings"
   ]
  },
  {
   "cell_type": "code",
   "execution_count": 3,
   "id": "b789ea17",
   "metadata": {
    "executionInfo": {
     "elapsed": 2,
     "status": "ok",
     "timestamp": 1755557441669,
     "user": {
      "displayName": "Omar Aguilar",
      "userId": "07112979418391027605"
     },
     "user_tz": -120
    },
    "id": "b789ea17"
   },
   "outputs": [],
   "source": [
    "pbs.MAX_SAMPLES  = 200\n",
    "pbs.CHAIN_LENGTH = 8\n",
    "pbs.USE_BAYESIAN = True\n",
    "\n",
    "pbs.TERM_WEIGHT  = 0.7\n",
    "pbs.TYPE_WEIGHT  = 0.3\n",
    "\n",
    "pbs.GOAL_TERM    = \"t - u*x/c**2\"\n",
    "pbs.GOAL_TYPE    = Art & Emp\n",
    "pbs.TARGET_TERM  = \"f(-k*y + t*w - k*u*x/c)\"\n",
    "\n",
    "pbs.BACKWARD_NAMES = {\"BWD\"}\n",
    "\n",
    "pbs.ENABLE_NO_REPEAT             = True\n",
    "pbs.ENABLE_SUB1_CONSTRAINT       = True\n",
    "pbs.ENABLE_SIM_SIMPUS_CONSTRAINT = True\n",
    "pbs.ENABLE_SIMPUS_SIM_CONSTRAINT = True\n",
    "pbs.ENABLE_BACKWARD_GATE         = True\n",
    "pbs.ENABLE_BACKWARD_ONLY_MODE    = False\n",
    "\n",
    "pbs.N_DEDUPES = 500\n",
    "pbs.VERBOSE   = True\n",
    "\n",
    "# How many independent runs for this quickstart\n",
    "N_RUNS = 150  # keep small for a quick demo"
   ]
  },
  {
   "cell_type": "markdown",
   "id": "_AqpFvm7VX2e",
   "metadata": {
    "id": "_AqpFvm7VX2e"
   },
   "source": [
    "## Search"
   ]
  },
  {
   "cell_type": "code",
   "execution_count": 4,
   "id": "23c17a0c",
   "metadata": {
    "colab": {
     "base_uri": "https://localhost:8080/"
    },
    "executionInfo": {
     "elapsed": 25713,
     "status": "ok",
     "timestamp": 1755557467383,
     "user": {
      "displayName": "Omar Aguilar",
      "userId": "07112979418391027605"
     },
     "user_tz": -120
    },
    "id": "23c17a0c",
    "outputId": "c339ad75-5836-4471-9f8f-df2d0da1cda7"
   },
   "outputs": [
    {
     "name": "stdout",
     "output_type": "stream",
     "text": [
      "Run   1: ✅ reached at chain 7\n",
      "Run   2: ✅ reached at chain 23\n",
      "Run   3: ✅ reached at chain 12\n",
      "Run   4: ✅ reached at chain 31\n",
      "Run   5: ✅ reached at chain 8\n",
      "Run   6: ✅ reached at chain 3\n",
      "Run   7: ✅ reached at chain 1\n",
      "Run   8: ✅ reached at chain 5\n",
      "Run   9: ✅ reached at chain 12\n",
      "Run  10: ✅ reached at chain 26\n",
      "Run  11: ✅ reached at chain 18\n",
      "Run  12: ✅ reached at chain 6\n",
      "Run  13: ✅ reached at chain 6\n",
      "Run  14: ✅ reached at chain 15\n",
      "Run  15: ✅ reached at chain 2\n",
      "Run  16: ✅ reached at chain 2\n",
      "Run  17: ✅ reached at chain 25\n",
      "Run  18: ✅ reached at chain 1\n",
      "Run  19: ✅ reached at chain 3\n",
      "Run  20: ✅ reached at chain 10\n",
      "Run  21: ✅ reached at chain 14\n",
      "Run  22: ✅ reached at chain 4\n",
      "Run  23: ✅ reached at chain 28\n",
      "Run  24: ✅ reached at chain 17\n",
      "Run  25: ✅ reached at chain 22\n",
      "Run  26: ✅ reached at chain 11\n",
      "Run  27: ✅ reached at chain 32\n",
      "Run  28: ✅ reached at chain 21\n",
      "Run  29: ✅ reached at chain 22\n",
      "Run  30: ✅ reached at chain 6\n",
      "Run  31: ✅ reached at chain 14\n",
      "Run  32: ✅ reached at chain 17\n",
      "Run  33: ✅ reached at chain 3\n",
      "Run  34: ✅ reached at chain 21\n",
      "Run  35: ✅ reached at chain 23\n",
      "Run  36: ✅ reached at chain 14\n",
      "Run  37: ✅ reached at chain 1\n",
      "Run  38: ✅ reached at chain 4\n",
      "Run  39: ✅ reached at chain 26\n",
      "Run  40: ✅ reached at chain 7\n",
      "Run  41: ✅ reached at chain 4\n",
      "Run  42: ✅ reached at chain 7\n",
      "Run  43: ✅ reached at chain 5\n",
      "Run  44: ✅ reached at chain 34\n",
      "Run  45: ✅ reached at chain 3\n",
      "Run  46: ✅ reached at chain 27\n",
      "Run  47: ✅ reached at chain 4\n",
      "Run  48: ✅ reached at chain 23\n",
      "Run  49: ✅ reached at chain 7\n",
      "Run  50: ✅ reached at chain 29\n",
      "Run  51: ✅ reached at chain 2\n",
      "Run  52: ✅ reached at chain 5\n",
      "Run  53: ✅ reached at chain 25\n",
      "Run  54: ✅ reached at chain 21\n",
      "Run  55: ✅ reached at chain 11\n",
      "Run  56: ✅ reached at chain 5\n",
      "Run  57: ✅ reached at chain 15\n",
      "Run  58: ✅ reached at chain 22\n",
      "Run  59: ✅ reached at chain 10\n",
      "Run  60: ✅ reached at chain 31\n",
      "Run  61: ✅ reached at chain 17\n",
      "Run  62: ✅ reached at chain 13\n",
      "Run  63: ✅ reached at chain 23\n",
      "Run  64: ✅ reached at chain 24\n",
      "Run  65: ✅ reached at chain 6\n",
      "Run  66: ✅ reached at chain 11\n",
      "Run  67: ✅ reached at chain 4\n",
      "Run  68: ✅ reached at chain 17\n",
      "Run  69: ✅ reached at chain 9\n",
      "Run  70: ✅ reached at chain 28\n",
      "Run  71: ✅ reached at chain 10\n",
      "Run  72: ✅ reached at chain 17\n",
      "Run  73: ✅ reached at chain 17\n",
      "Run  74: ✅ reached at chain 3\n",
      "Run  75: ✅ reached at chain 35\n",
      "Run  76: ✅ reached at chain 1\n",
      "Run  77: ✅ reached at chain 18\n",
      "Run  78: ✅ reached at chain 19\n",
      "Run  79: ✅ reached at chain 17\n",
      "Run  80: ✅ reached at chain 23\n",
      "Run  81: ✅ reached at chain 27\n",
      "Run  82: ✅ reached at chain 21\n",
      "Run  83: ✅ reached at chain 15\n",
      "Run  84: ✅ reached at chain 4\n",
      "Run  85: ✅ reached at chain 18\n",
      "Run  86: ✅ reached at chain 10\n",
      "Run  87: ✅ reached at chain 7\n",
      "Run  88: ✅ reached at chain 3\n",
      "Run  89: ✅ reached at chain 12\n",
      "Run  90: ✅ reached at chain 5\n",
      "Run  91: ✅ reached at chain 34\n",
      "Run  92: ✅ reached at chain 2\n",
      "Run  93: ✅ reached at chain 20\n",
      "Run  94: ✅ reached at chain 15\n",
      "Run  95: ✅ reached at chain 12\n",
      "Run  96: ✅ reached at chain 4\n",
      "Run  97: ✅ reached at chain 10\n",
      "Run  98: ✅ reached at chain 16\n",
      "Run  99: ✅ reached at chain 22\n",
      "Run 100: ✅ reached at chain 1\n",
      "Run 101: ✅ reached at chain 22\n",
      "Run 102: ✅ reached at chain 34\n",
      "Run 103: ✅ reached at chain 10\n",
      "Run 104: ✅ reached at chain 11\n",
      "Run 105: ✅ reached at chain 30\n",
      "Run 106: ✅ reached at chain 11\n",
      "Run 107: ✅ reached at chain 14\n",
      "Run 108: ✅ reached at chain 7\n",
      "Run 109: ✅ reached at chain 5\n",
      "Run 110: ✅ reached at chain 27\n",
      "Run 111: ✅ reached at chain 25\n",
      "Run 112: ✅ reached at chain 35\n",
      "Run 113: ✅ reached at chain 27\n",
      "Run 114: ✅ reached at chain 2\n",
      "Run 115: ✅ reached at chain 26\n",
      "Run 116: ✅ reached at chain 23\n",
      "Run 117: ✅ reached at chain 19\n",
      "Run 118: ✅ reached at chain 24\n",
      "Run 119: ✅ reached at chain 10\n",
      "Run 120: ✅ reached at chain 24\n",
      "Run 121: ✅ reached at chain 23\n",
      "Run 122: ✅ reached at chain 11\n",
      "Run 123: ✅ reached at chain 1\n",
      "Run 124: ✅ reached at chain 20\n",
      "Run 125: ✅ reached at chain 14\n",
      "Run 126: ✅ reached at chain 13\n",
      "Run 127: ✅ reached at chain 7\n",
      "Run 128: ✅ reached at chain 22\n",
      "Run 129: ✅ reached at chain 1\n",
      "Run 130: ✅ reached at chain 1\n",
      "Run 131: ✅ reached at chain 15\n",
      "Run 132: ✅ reached at chain 26\n",
      "Run 133: ✅ reached at chain 13\n",
      "Run 134: ✅ reached at chain 5\n",
      "Run 135: ✅ reached at chain 5\n",
      "Run 136: ✅ reached at chain 8\n",
      "Run 137: ✅ reached at chain 1\n",
      "Run 138: ✅ reached at chain 5\n",
      "Run 139: ✅ reached at chain 4\n",
      "Run 140: ✅ reached at chain 12\n",
      "Run 141: ✅ reached at chain 17\n",
      "Run 142: ✅ reached at chain 16\n",
      "Run 143: ✅ reached at chain 11\n",
      "Run 144: ✅ reached at chain 4\n",
      "Run 145: ✅ reached at chain 23\n",
      "Run 146: ✅ reached at chain 21\n",
      "Run 147: ✅ reached at chain 13\n",
      "Run 148: ✅ reached at chain 4\n",
      "Run 149: ✅ reached at chain 27\n",
      "Run 150: ✅ reached at chain 19\n",
      "\n",
      "→ 150/150 runs reached the goal.\n",
      "\n",
      "✅ Total elapsed time: 19.67 seconds\n"
     ]
    }
   ],
   "source": [
    "import cProfile, pstats, io, time\n",
    "\n",
    "t0 = time.perf_counter()\n",
    "\n",
    "results = pbs.run_experiments(N_RUNS, max_samples=pbs.MAX_SAMPLES, n_dedupe=pbs.N_DEDUPES, parallel=False)\n",
    "\n",
    "t1 = time.perf_counter()\n",
    "print(f\"\\n✅ Total elapsed time: {t1 - t0:.2f} seconds\")\n"
   ]
  },
  {
   "cell_type": "markdown",
   "id": "cnTFD1JTVepY",
   "metadata": {
    "id": "cnTFD1JTVepY"
   },
   "source": [
    "## Success indices at which goal is met"
   ]
  },
  {
   "cell_type": "code",
   "execution_count": 5,
   "id": "c3f57d52",
   "metadata": {
    "colab": {
     "base_uri": "https://localhost:8080/"
    },
    "executionInfo": {
     "elapsed": 4,
     "status": "ok",
     "timestamp": 1755557467389,
     "user": {
      "displayName": "Omar Aguilar",
      "userId": "07112979418391027605"
     },
     "user_tz": -120
    },
    "id": "c3f57d52",
    "outputId": "da07fa07-82d2-4568-9c18-56a364b2e9ae"
   },
   "outputs": [
    {
     "name": "stdout",
     "output_type": "stream",
     "text": [
      "All program-indices at which the goal was met:\n",
      "[7, 23, 12, 31, 8, 3, 1, 5, 12, 26, 18, 6, 6, 15, 2, 2, 25, 1, 3, 10, 14, 4, 28, 17, 22, 11, 32, 21, 22, 6, 14, 17, 3, 21, 23, 14, 1, 4, 26, 7, 4, 7, 5, 34, 3, 27, 4, 23, 7, 29, 2, 5, 25, 21, 11, 5, 15, 22, 10, 31, 17, 13, 23, 24, 6, 11, 4, 17, 9, 28, 10, 17, 17, 3, 35, 1, 18, 19, 17, 23, 27, 21, 15, 4, 18, 10, 7, 3, 12, 5, 34, 2, 20, 15, 12, 4, 10, 16, 22, 1, 22, 34, 10, 11, 30, 11, 14, 7, 5, 27, 25, 35, 27, 2, 26, 23, 19, 24, 10, 24, 23, 11, 1, 20, 14, 13, 7, 22, 1, 1, 15, 26, 13, 5, 5, 8, 1, 5, 4, 12, 17, 16, 11, 4, 23, 21, 13, 4, 27, 19]\n"
     ]
    }
   ],
   "source": [
    "success_indices_pure_bayes = [r for r in results if r is not None]\n",
    "print(\"All program-indices at which the goal was met:\")\n",
    "print(success_indices_pure_bayes)\n"
   ]
  },
  {
   "cell_type": "markdown",
   "id": "-tf9midFVj8D",
   "metadata": {
    "id": "-tf9midFVj8D"
   },
   "source": [
    "## Save success indices"
   ]
  },
  {
   "cell_type": "code",
   "execution_count": 6,
   "id": "acda5059",
   "metadata": {},
   "outputs": [
    {
     "name": "stdout",
     "output_type": "stream",
     "text": [
      "\n",
      "✅ Saved 150 indices to:\n",
      "/home/omar/Documents/Code/einstein_program_synthesis/output/success_indices_pure_bayes.csv\n"
     ]
    }
   ],
   "source": [
    "# Save success indices — works in Colab + VS Code/local\n",
    "import os\n",
    "from pathlib import Path\n",
    "import numpy as np\n",
    "\n",
    "def get_output_dir() -> Path:\n",
    "    # 1) explicit override via env var\n",
    "    env = os.getenv(\"EPS_OUTPUT_DIR\")\n",
    "    if env:\n",
    "        return Path(env).expanduser().resolve()\n",
    "\n",
    "    # 2) Colab (Drive mounted)\n",
    "    try:\n",
    "        import google.colab  # type: ignore\n",
    "        base = Path(\"/content/drive/MyDrive\")\n",
    "        if not base.exists():\n",
    "            base = Path(\"/content/drive/My Drive\")  # older mount name\n",
    "        return base / \"einstein_program_synthesis\" / \"output\"\n",
    "    except Exception:\n",
    "        pass\n",
    "\n",
    "    # 3) Local/VS Code: put outputs in repo_root/output (or CWD/output)\n",
    "    cwd = Path.cwd()\n",
    "    for p in [cwd, *cwd.parents]:\n",
    "        if (p / \".git\").exists() or (p / \"pyproject.toml\").exists() or (p / \"setup.cfg\").exists():\n",
    "            return p / \"output\"\n",
    "    return cwd / \"output\"\n",
    "\n",
    "output_dir = get_output_dir()\n",
    "output_dir.mkdir(parents=True, exist_ok=True)\n",
    "\n",
    "out_path = output_dir / \"success_indices_pure_bayes.csv\"\n",
    "np.savetxt(\n",
    "    out_path,\n",
    "    success_indices_pure_bayes,\n",
    "    fmt=\"%d\",\n",
    "    header=\"success_index\",\n",
    "    delimiter=\",\",\n",
    "    comments=\"\"\n",
    ")\n",
    "\n",
    "print(f\"\\n✅ Saved {len(success_indices_pure_bayes)} indices to:\\n{out_path}\")\n"
   ]
  },
  {
   "cell_type": "markdown",
   "id": "kt3FERi_XC49",
   "metadata": {
    "id": "kt3FERi_XC49"
   },
   "source": [
    "## Calculate statistics"
   ]
  },
  {
   "cell_type": "code",
   "execution_count": 7,
   "id": "JdITF4rf6zzJ",
   "metadata": {
    "colab": {
     "base_uri": "https://localhost:8080/"
    },
    "executionInfo": {
     "elapsed": 25,
     "status": "ok",
     "timestamp": 1755557467428,
     "user": {
      "displayName": "Omar Aguilar",
      "userId": "07112979418391027605"
     },
     "user_tz": -120
    },
    "id": "JdITF4rf6zzJ",
    "outputId": "9c813231-6098-4f49-b624-b835f5cc912f"
   },
   "outputs": [
    {
     "name": "stdout",
     "output_type": "stream",
     "text": [
      "{'n': 150, 'mean': 14.206666666666667, 'std': 9.370306282135557, 'cv': 0.6595710663164399, 'median': 13.0, 'iqr': 17.0, 'q25': 5.0, 'q75': 22.0, 'p50': 13.0, 'p90': 27.0, 'p95': 30.549999999999983, 'min': 1.0, 'max': 35.0}\n"
     ]
    }
   ],
   "source": [
    "import numpy as np\n",
    "\n",
    "def summarize(results):\n",
    "    # keep numeric, non-None, non-NaN entries\n",
    "    arr = np.array([x for x in results if x is not None and not (isinstance(x, float) and np.isnan(x))], dtype=float)\n",
    "    n = arr.size\n",
    "    if n == 0:\n",
    "        return {\n",
    "            \"n\": 0,\n",
    "            \"mean\": None, \"std\": None, \"cv\": None,\n",
    "            \"median\": None, \"iqr\": None,\n",
    "            \"q25\": None, \"q75\": None,\n",
    "            \"p50\": None, \"p90\": None, \"p95\": None,\n",
    "            \"min\": None, \"max\": None,\n",
    "        }\n",
    "\n",
    "    mean = float(arr.mean())\n",
    "    std  = float(arr.std(ddof=1)) if n > 1 else 0.0  # sample std if possible\n",
    "    q25  = float(np.quantile(arr, 0.25))\n",
    "    med  = float(np.quantile(arr, 0.50))\n",
    "    q75  = float(np.quantile(arr, 0.75))\n",
    "    iqr  = float(q75 - q25)\n",
    "\n",
    "    stats = {\n",
    "        \"n\": n,\n",
    "        \"mean\": mean,\n",
    "        \"std\": std,\n",
    "        \"cv\": (float(std/mean) if mean != 0 else None),\n",
    "        \"median\": med,\n",
    "        \"iqr\": iqr,\n",
    "        \"q25\": q25,\n",
    "        \"q75\": q75,\n",
    "        \"p50\": med,\n",
    "        \"p90\": float(np.percentile(arr, 90)),\n",
    "        \"p95\": float(np.percentile(arr, 95)),\n",
    "        \"min\": float(arr.min()),\n",
    "        \"max\": float(arr.max()),\n",
    "    }\n",
    "    return stats\n",
    "\n",
    "stats = summarize(results)\n",
    "print(stats)\n"
   ]
  },
  {
   "cell_type": "markdown",
   "id": "XxAft-UkXLLZ",
   "metadata": {
    "id": "XxAft-UkXLLZ"
   },
   "source": [
    "## Save statistics"
   ]
  },
  {
   "cell_type": "code",
   "execution_count": 8,
   "id": "4aef3554",
   "metadata": {},
   "outputs": [
    {
     "name": "stdout",
     "output_type": "stream",
     "text": [
      "\n",
      "✅ Saved Pure Bayes stats to:\n",
      "/home/omar/Documents/Code/einstein_program_synthesis/output/pure_bayes_stats.csv\n"
     ]
    }
   ],
   "source": [
    "# Save Bayes-Neural statistics — Colab + VS Code/local\n",
    "import os, csv\n",
    "from pathlib import Path\n",
    "\n",
    "def get_output_dir() -> Path:\n",
    "    # 1) explicit override via env var\n",
    "    env = os.getenv(\"EPS_OUTPUT_DIR\")\n",
    "    if env:\n",
    "        return Path(env).expanduser().resolve()\n",
    "\n",
    "    # 2) Colab (Drive mounted)\n",
    "    try:\n",
    "        import google.colab  # type: ignore\n",
    "        base = Path(\"/content/drive/MyDrive\")\n",
    "        if not base.exists():\n",
    "            base = Path(\"/content/drive/My Drive\")  # older mount name\n",
    "        return base / \"einstein_program_synthesis\" / \"output\"\n",
    "    except Exception:\n",
    "        pass\n",
    "\n",
    "    # 3) Local/VS Code: repo root's output/ (fallback to CWD/output)\n",
    "    cwd = Path.cwd()\n",
    "    for p in [cwd, *cwd.parents]:\n",
    "        if (p / \".git\").exists() or (p / \"pyproject.toml\").exists() or (p / \"setup.cfg\").exists():\n",
    "            return p / \"output\"\n",
    "    return cwd / \"output\"\n",
    "\n",
    "output_dir = get_output_dir()\n",
    "output_dir.mkdir(parents=True, exist_ok=True)\n",
    "\n",
    "csv_path = output_dir / \"pure_bayes_stats.csv\"\n",
    "\n",
    "# stable ordering for columns\n",
    "cols = [\"n\",\"mean\",\"std\",\"cv\",\"median\",\"iqr\",\"q25\",\"q75\",\"p50\",\"p90\",\"p95\",\"min\",\"max\"]\n",
    "\n",
    "with open(csv_path, \"w\", newline=\"\", encoding=\"utf-8\") as fp:\n",
    "    writer = csv.writer(fp)\n",
    "    writer.writerow(cols)\n",
    "    writer.writerow([stats.get(c, \"\") for c in cols])  # uses empty if missing\n",
    "\n",
    "print(f\"\\n✅ Saved Pure Bayes stats to:\\n{csv_path}\")\n"
   ]
  },
  {
   "cell_type": "markdown",
   "id": "PbHL-vDUX0Gm",
   "metadata": {
    "id": "PbHL-vDUX0Gm"
   },
   "source": [
    "## Plot success rate versus program index"
   ]
  },
  {
   "cell_type": "code",
   "execution_count": null,
   "id": "286e5c37",
   "metadata": {
    "colab": {
     "base_uri": "https://localhost:8080/",
     "height": 487
    },
    "executionInfo": {
     "elapsed": 269,
     "status": "ok",
     "timestamp": 1755557467831,
     "user": {
      "displayName": "Omar Aguilar",
      "userId": "07112979418391027605"
     },
     "user_tz": -120
    },
    "id": "286e5c37",
    "outputId": "f9ccc0ee-8d64-4548-a5ff-14e2f9a2811a"
   },
   "outputs": [
    {
     "data": {
      "image/png": "[encoded data removed]",
      "text/plain": [
       "<Figure size 640x480 with 1 Axes>"
      ]
     },
     "metadata": {},
     "output_type": "display_data"
    }
   ],
   "source": [
    "import numpy as np\n",
    "import matplotlib.pyplot as plt\n",
    "\n",
    "# Given success indices from this batch\n",
    "success_array = np.array(success_indices_pure_bayes, dtype=int)\n",
    "max_program = pbs.MAX_SAMPLES  # x-axis limit (your sampling budget)\n",
    "\n",
    "# X axis: program indices 1..max_program\n",
    "x = np.arange(1, max_program + 1)\n",
    "\n",
    "# Cumulative success rate at each program index k\n",
    "success_rate = np.array([(success_array <= k).sum() for k in x]) / max(N_RUNS, 1)\n",
    "\n",
    "# Plot\n",
    "plt.figure()\n",
    "plt.plot(x, success_rate)\n",
    "plt.xlabel(\"Program index\", fontsize=12)\n",
    "plt.ylabel(\"Success rate\", fontsize=12)\n",
    "# plt.title(\"Success Rate over Program Index\")\n",
    "\n",
    "# Bigger tick labels\n",
    "plt.xticks(fontsize=12)\n",
    "plt.yticks(fontsize=12)\n",
    "\n",
    "# Force x-axis from 0 to max_program\n",
    "plt.xlim(0, max_program)\n",
    "\n",
    "# Grid a bit darker/heavier (like your screenshot)\n",
    "plt.grid(\n",
    "    True,\n",
    "    color=\"#CCCCCC\",   # darker gray\n",
    "    linewidth=0.6,     # slightly thicker\n",
    "    linestyle='-.',    # dashed-dot\n",
    "    alpha=0.4          # more opaque\n",
    ")\n",
    "\n",
    "# Optional: remove top & right spines\n",
    "# ax = plt.gca()\n",
    "# ax.spines['top'].set_visible(False)\n",
    "# ax.spines['right'].set_visible(False)\n",
    "\n",
    "plt.tight_layout()\n",
    "plt.show()\n",
    "\n",
    "\n"
   ]
  },
  {
   "cell_type": "markdown",
   "id": "rijQrSkqXvyr",
   "metadata": {
    "id": "rijQrSkqXvyr"
   },
   "source": [
    "## Reset caches"
   ]
  },
  {
   "cell_type": "code",
   "execution_count": 10,
   "id": "8df3b3b7",
   "metadata": {
    "executionInfo": {
     "elapsed": 3,
     "status": "ok",
     "timestamp": 1755557467838,
     "user": {
      "displayName": "Omar Aguilar",
      "userId": "07112979418391027605"
     },
     "user_tz": -120
    },
    "id": "8df3b3b7"
   },
   "outputs": [],
   "source": [
    "pbs.expr_to_str.cache_clear()\n",
    "pbs.closeness_cached.cache_clear()\n",
    "pbs._apply_primitive_cached.cache_clear()\n",
    "pbs._ctx_cache.clear(); pbs._cursor_cache.clear()\n"
   ]
  }
 ],
 "metadata": {
  "colab": {
   "provenance": []
  },
  "kernelspec": {
   "display_name": "einstein_dsl",
   "language": "python",
   "name": "python3"
  },
  "language_info": {
   "codemirror_mode": {
    "name": "ipython",
    "version": 3
   },
   "file_extension": ".py",
   "mimetype": "text/x-python",
   "name": "python",
   "nbconvert_exporter": "python",
   "pygments_lexer": "ipython3",
   "version": "3.10.16"
  }
 },
 "nbformat": 4,
 "nbformat_minor": 5
}
