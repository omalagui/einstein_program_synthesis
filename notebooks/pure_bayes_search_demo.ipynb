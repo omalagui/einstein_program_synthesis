{
 "cells": [
  {
   "cell_type": "code",
   "execution_count": 1,
   "id": "d282ae70",
   "metadata": {},
   "outputs": [
    {
     "name": "stdout",
     "output_type": "stream",
     "text": [
      "Using repo path: /home/omar/Documents/Code/einstein_program_synthesis/scripts\n",
      "Exists?  True\n",
      "Contains: ['synthesis_primitives.py', 'einstein_types.py', 'context.py', 'judgments.py', 'typing_rules.py', 'simplify.py', 'bayes_neural_search.py', 'pure_bayes_search.py', 'synthesis_state.py']\n"
     ]
    }
   ],
   "source": [
    "# Portable path setup for both Colab and local\n",
    "import sys, os\n",
    "from pathlib import Path\n",
    "\n",
    "def in_colab():\n",
    "    try:\n",
    "        import google.colab  # noqa: F401\n",
    "        return True\n",
    "    except Exception:\n",
    "        return False\n",
    "\n",
    "if in_colab():\n",
    "    # --- COLAB ---\n",
    "    from google.colab import drive\n",
    "    drive.mount('/content/drive')\n",
    "    REPO_PATH = Path(\"/content/drive/My Drive/einstein_program_synthesis/scripts\")  # <-- change if needed\n",
    "else:\n",
    "    # --- LOCAL ---\n",
    "    # Point this to the folder that contains your .py files:\n",
    "    #   pure_bayes_search.py\n",
    "    #   bayes_neural_search.py\n",
    "    #   context.py, judgments.py, einstein_types.py, synthesis_state.py, synthesis_primitives.py\n",
    "    REPO_PATH = Path.home() / \"Documents\" / \"Code\" / \"einstein_program_synthesis\" / \"scripts\"  # <-- set me\n",
    "\n",
    "# put it on sys.path (front)\n",
    "sys.path.insert(0, str(REPO_PATH.resolve()))\n",
    "\n",
    "print(\"Using repo path:\", REPO_PATH.resolve())\n",
    "print(\"Exists? \", REPO_PATH.exists())\n",
    "print(\"Contains:\", [p.name for p in REPO_PATH.glob(\"*.py\")])\n"
   ]
  },
  {
   "cell_type": "code",
   "execution_count": 2,
   "id": "495e645f",
   "metadata": {},
   "outputs": [
    {
     "name": "stdout",
     "output_type": "stream",
     "text": [
      "module path: /home/omar/Documents/Code/einstein_program_synthesis/scripts/pure_bayes_search.py\n"
     ]
    }
   ],
   "source": [
    "import importlib\n",
    "import pure_bayes_search as pbs\n",
    "\n",
    "print(\"module path:\", pbs.__file__)\n",
    "pbs = importlib.reload(pbs)  # fresh module state (like running the script)\n"
   ]
  },
  {
   "cell_type": "code",
   "execution_count": 3,
   "id": "b789ea17",
   "metadata": {},
   "outputs": [],
   "source": [
    "from einstein_types import Art, Emp\n",
    "\n",
    "pbs.MAX_SAMPLES  = 200\n",
    "pbs.CHAIN_LENGTH = 8\n",
    "pbs.USE_BAYESIAN = True\n",
    "\n",
    "pbs.TERM_WEIGHT  = 0.7\n",
    "pbs.TYPE_WEIGHT  = 0.3\n",
    "\n",
    "pbs.GOAL_TERM    = \"t - u*x/c**2\"\n",
    "pbs.GOAL_TYPE    = Art & Emp\n",
    "pbs.TARGET_TERM  = \"f(-k*y + t*w - k*u*x/c)\"\n",
    "\n",
    "pbs.BACKWARD_NAMES = {\"BWD\"}\n",
    "\n",
    "pbs.ENABLE_NO_REPEAT             = True\n",
    "pbs.ENABLE_SUB1_CONSTRAINT       = True\n",
    "pbs.ENABLE_SIM_SIMPUS_CONSTRAINT = True\n",
    "pbs.ENABLE_SIMPUS_SIM_CONSTRAINT = True\n",
    "pbs.ENABLE_BACKWARD_GATE         = True\n",
    "pbs.ENABLE_BACKWARD_ONLY_MODE    = False\n",
    "\n",
    "pbs.N_DEDUPES = 500\n",
    "pbs.VERBOSE   = True\n"
   ]
  },
  {
   "cell_type": "code",
   "execution_count": 4,
   "id": "23c17a0c",
   "metadata": {},
   "outputs": [
    {
     "name": "stdout",
     "output_type": "stream",
     "text": [
      "Run   1: ✅ reached at chain 5\n",
      "Run   2: ✅ reached at chain 13\n",
      "Run   3: ✅ reached at chain 14\n",
      "Run   4: ✅ reached at chain 18\n",
      "Run   5: ✅ reached at chain 15\n",
      "Run   6: ✅ reached at chain 1\n",
      "Run   7: ✅ reached at chain 34\n",
      "Run   8: ✅ reached at chain 7\n",
      "Run   9: ✅ reached at chain 17\n",
      "Run  10: ✅ reached at chain 12\n",
      "Run  11: ✅ reached at chain 6\n",
      "Run  12: ✅ reached at chain 1\n",
      "Run  13: ✅ reached at chain 10\n",
      "Run  14: ✅ reached at chain 19\n",
      "Run  15: ✅ reached at chain 10\n",
      "Run  16: ✅ reached at chain 4\n",
      "Run  17: ✅ reached at chain 12\n",
      "Run  18: ✅ reached at chain 19\n",
      "Run  19: ✅ reached at chain 25\n",
      "Run  20: ✅ reached at chain 17\n",
      "Run  21: ✅ reached at chain 20\n",
      "Run  22: ✅ reached at chain 12\n",
      "Run  23: ✅ reached at chain 15\n",
      "Run  24: ✅ reached at chain 15\n",
      "Run  25: ✅ reached at chain 26\n",
      "Run  26: ✅ reached at chain 9\n",
      "Run  27: ✅ reached at chain 9\n",
      "Run  28: ✅ reached at chain 15\n",
      "Run  29: ✅ reached at chain 17\n",
      "Run  30: ✅ reached at chain 11\n",
      "Run  31: ✅ reached at chain 16\n",
      "Run  32: ✅ reached at chain 32\n",
      "Run  33: ✅ reached at chain 14\n",
      "Run  34: ✅ reached at chain 21\n",
      "Run  35: ✅ reached at chain 6\n",
      "Run  36: ✅ reached at chain 6\n",
      "Run  37: ✅ reached at chain 12\n",
      "Run  38: ✅ reached at chain 26\n",
      "Run  39: ✅ reached at chain 1\n",
      "Run  40: ✅ reached at chain 15\n",
      "Run  41: ✅ reached at chain 25\n",
      "Run  42: ✅ reached at chain 2\n",
      "Run  43: ✅ reached at chain 16\n",
      "Run  44: ✅ reached at chain 9\n",
      "Run  45: ✅ reached at chain 5\n",
      "Run  46: ✅ reached at chain 4\n",
      "Run  47: ✅ reached at chain 18\n",
      "Run  48: ✅ reached at chain 22\n",
      "Run  49: ✅ reached at chain 28\n",
      "Run  50: ✅ reached at chain 23\n",
      "Run  51: ✅ reached at chain 31\n",
      "Run  52: ✅ reached at chain 33\n",
      "Run  53: ✅ reached at chain 3\n",
      "Run  54: ✅ reached at chain 5\n",
      "Run  55: ✅ reached at chain 16\n",
      "Run  56: ✅ reached at chain 7\n",
      "Run  57: ✅ reached at chain 14\n",
      "Run  58: ✅ reached at chain 24\n",
      "Run  59: ✅ reached at chain 8\n",
      "Run  60: ✅ reached at chain 30\n",
      "Run  61: ✅ reached at chain 13\n",
      "Run  62: ✅ reached at chain 22\n",
      "Run  63: ✅ reached at chain 2\n",
      "Run  64: ✅ reached at chain 5\n",
      "Run  65: ✅ reached at chain 10\n",
      "Run  66: ✅ reached at chain 6\n",
      "Run  67: ✅ reached at chain 17\n",
      "Run  68: ✅ reached at chain 1\n",
      "Run  69: ✅ reached at chain 7\n",
      "Run  70: ✅ reached at chain 33\n",
      "Run  71: ✅ reached at chain 17\n",
      "Run  72: ✅ reached at chain 6\n",
      "Run  73: ✅ reached at chain 22\n",
      "Run  74: ✅ reached at chain 9\n",
      "Run  75: ✅ reached at chain 23\n",
      "Run  76: ✅ reached at chain 4\n",
      "Run  77: ✅ reached at chain 2\n",
      "Run  78: ✅ reached at chain 4\n",
      "Run  79: ✅ reached at chain 12\n",
      "Run  80: ✅ reached at chain 20\n",
      "Run  81: ✅ reached at chain 7\n",
      "Run  82: ✅ reached at chain 10\n",
      "Run  83: ✅ reached at chain 6\n",
      "Run  84: ✅ reached at chain 25\n",
      "Run  85: ✅ reached at chain 24\n",
      "Run  86: ✅ reached at chain 3\n",
      "Run  87: ✅ reached at chain 13\n",
      "Run  88: ✅ reached at chain 18\n",
      "Run  89: ✅ reached at chain 17\n",
      "Run  90: ✅ reached at chain 22\n",
      "Run  91: ✅ reached at chain 15\n",
      "Run  92: ✅ reached at chain 22\n",
      "Run  93: ✅ reached at chain 20\n",
      "Run  94: ✅ reached at chain 23\n",
      "Run  95: ✅ reached at chain 19\n",
      "Run  96: ✅ reached at chain 9\n",
      "Run  97: ✅ reached at chain 29\n",
      "Run  98: ✅ reached at chain 12\n",
      "Run  99: ✅ reached at chain 16\n",
      "Run 100: ✅ reached at chain 29\n",
      "Run 101: ✅ reached at chain 25\n",
      "Run 102: ✅ reached at chain 21\n",
      "Run 103: ✅ reached at chain 1\n",
      "Run 104: ✅ reached at chain 5\n",
      "Run 105: ✅ reached at chain 25\n",
      "Run 106: ✅ reached at chain 36\n",
      "Run 107: ✅ reached at chain 6\n",
      "Run 108: ✅ reached at chain 30\n",
      "Run 109: ✅ reached at chain 9\n",
      "Run 110: ✅ reached at chain 11\n",
      "Run 111: ✅ reached at chain 5\n",
      "Run 112: ✅ reached at chain 12\n",
      "Run 113: ✅ reached at chain 17\n",
      "Run 114: ✅ reached at chain 8\n",
      "Run 115: ✅ reached at chain 14\n",
      "Run 116: ✅ reached at chain 24\n",
      "Run 117: ✅ reached at chain 9\n",
      "Run 118: ✅ reached at chain 10\n",
      "Run 119: ✅ reached at chain 28\n",
      "Run 120: ✅ reached at chain 29\n",
      "Run 121: ✅ reached at chain 2\n",
      "Run 122: ✅ reached at chain 26\n",
      "Run 123: ✅ reached at chain 18\n",
      "Run 124: ✅ reached at chain 11\n",
      "Run 125: ✅ reached at chain 31\n",
      "Run 126: ✅ reached at chain 20\n",
      "Run 127: ✅ reached at chain 19\n",
      "Run 128: ✅ reached at chain 13\n",
      "Run 129: ✅ reached at chain 1\n",
      "Run 130: ✅ reached at chain 12\n",
      "Run 131: ✅ reached at chain 23\n",
      "Run 132: ✅ reached at chain 22\n",
      "Run 133: ✅ reached at chain 9\n",
      "Run 134: ✅ reached at chain 7\n",
      "Run 135: ✅ reached at chain 6\n",
      "Run 136: ✅ reached at chain 9\n",
      "Run 137: ✅ reached at chain 7\n",
      "Run 138: ✅ reached at chain 1\n",
      "Run 139: ✅ reached at chain 17\n",
      "Run 140: ✅ reached at chain 5\n",
      "Run 141: ✅ reached at chain 18\n",
      "Run 142: ✅ reached at chain 18\n",
      "Run 143: ✅ reached at chain 17\n",
      "Run 144: ✅ reached at chain 2\n",
      "Run 145: ✅ reached at chain 2\n",
      "Run 146: ✅ reached at chain 15\n",
      "Run 147: ✅ reached at chain 10\n",
      "Run 148: ✅ reached at chain 10\n",
      "Run 149: ✅ reached at chain 9\n",
      "Run 150: ✅ reached at chain 7\n",
      "\n",
      "→ 150/150 runs reached the goal.\n",
      "\n",
      "✅ Total elapsed time: 19.26 seconds\n"
     ]
    }
   ],
   "source": [
    "import cProfile, pstats, io, time\n",
    "\n",
    "N_RUNS = 150\n",
    "\n",
    "t0 = time.perf_counter()\n",
    "\n",
    "results = pbs.run_experiments(\n",
    "    N_RUNS,\n",
    "    max_samples=pbs.MAX_SAMPLES,\n",
    "    n_dedupe=pbs.N_DEDUPES,\n",
    "    parallel=False\n",
    ")\n",
    "\n",
    "\n",
    "t1 = time.perf_counter()\n",
    "print(f\"\\n✅ Total elapsed time: {t1 - t0:.2f} seconds\")\n"
   ]
  },
  {
   "cell_type": "code",
   "execution_count": 5,
   "id": "c3f57d52",
   "metadata": {},
   "outputs": [
    {
     "name": "stdout",
     "output_type": "stream",
     "text": [
      "All program-indices at which the goal was met:\n",
      "[5, 13, 14, 18, 15, 1, 34, 7, 17, 12, 6, 1, 10, 19, 10, 4, 12, 19, 25, 17, 20, 12, 15, 15, 26, 9, 9, 15, 17, 11, 16, 32, 14, 21, 6, 6, 12, 26, 1, 15, 25, 2, 16, 9, 5, 4, 18, 22, 28, 23, 31, 33, 3, 5, 16, 7, 14, 24, 8, 30, 13, 22, 2, 5, 10, 6, 17, 1, 7, 33, 17, 6, 22, 9, 23, 4, 2, 4, 12, 20, 7, 10, 6, 25, 24, 3, 13, 18, 17, 22, 15, 22, 20, 23, 19, 9, 29, 12, 16, 29, 25, 21, 1, 5, 25, 36, 6, 30, 9, 11, 5, 12, 17, 8, 14, 24, 9, 10, 28, 29, 2, 26, 18, 11, 31, 20, 19, 13, 1, 12, 23, 22, 9, 7, 6, 9, 7, 1, 17, 5, 18, 18, 17, 2, 2, 15, 10, 10, 9, 7]\n"
     ]
    }
   ],
   "source": [
    "success_indices = [r for r in results if r is not None]\n",
    "print(\"All program-indices at which the goal was met:\")\n",
    "print(success_indices)\n"
   ]
  },
  {
   "cell_type": "code",
   "execution_count": 6,
   "id": "cbf93077",
   "metadata": {},
   "outputs": [
    {
     "name": "stdout",
     "output_type": "stream",
     "text": [
      "{'n': 150, 'mean': 14.306666666666667, 'std': 8.696174169722948, 'median': 13.5, 'q25': 7.0, 'q75': 20.0, 'p90': 26.0, 'p95': 30.0, 'min': 1.0, 'max': 36.0}\n"
     ]
    }
   ],
   "source": [
    "import numpy as np\n",
    "arr = np.array(success_indices, dtype=float)\n",
    "if arr.size:\n",
    "    print({\n",
    "        \"n\": int(arr.size),\n",
    "        \"mean\": float(arr.mean()),\n",
    "        \"std\": float(arr.std(ddof=1)) if arr.size > 1 else 0.0,\n",
    "        \"median\": float(np.median(arr)),\n",
    "        \"q25\": float(np.quantile(arr, 0.25)),\n",
    "        \"q75\": float(np.quantile(arr, 0.75)),\n",
    "        \"p90\": float(np.percentile(arr, 90)),\n",
    "        \"p95\": float(np.percentile(arr, 95)),\n",
    "        \"min\": float(arr.min()),\n",
    "        \"max\": float(arr.max()),\n",
    "    })\n",
    "else:\n",
    "    print(\"no successful runs in this batch.\")\n",
    "\n"
   ]
  },
  {
   "cell_type": "code",
   "execution_count": 7,
   "id": "286e5c37",
   "metadata": {},
   "outputs": [
    {
     "data": {
      "image/png": "[encoded data removed]",
      "text/plain": [
       "<Figure size 640x480 with 1 Axes>"
      ]
     },
     "metadata": {},
     "output_type": "display_data"
    }
   ],
   "source": [
    "import numpy as np, matplotlib.pyplot as plt\n",
    "xmax = pbs.MAX_SAMPLES\n",
    "x = np.arange(1, xmax + 1)\n",
    "succ = np.array(success_indices, dtype=int)\n",
    "rate = np.array([(succ <= k).sum() for k in x]) / max(len(results), 1)\n",
    "\n",
    "plt.figure()\n",
    "plt.plot(x, rate)\n",
    "plt.xlabel(\"Program index\", fontsize=12)\n",
    "plt.ylabel(\"Success rate\", fontsize=12)\n",
    "plt.xlim(0, xmax)\n",
    "plt.grid(True, color=\"#CCCCCC\", linewidth=0.6, linestyle='-.', alpha=0.4)\n",
    "plt.tight_layout()\n",
    "plt.show()\n",
    "\n"
   ]
  },
  {
   "cell_type": "code",
   "execution_count": 8,
   "id": "8df3b3b7",
   "metadata": {},
   "outputs": [],
   "source": [
    "pbs.expr_to_str.cache_clear()\n",
    "pbs.closeness_cached.cache_clear()\n",
    "pbs._apply_primitive_cached.cache_clear()\n",
    "pbs._ctx_cache.clear(); pbs._cursor_cache.clear()\n"
   ]
  }
 ],
 "metadata": {
  "kernelspec": {
   "display_name": "einstein_dsl",
   "language": "python",
   "name": "python3"
  },
  "language_info": {
   "codemirror_mode": {
    "name": "ipython",
    "version": 3
   },
   "file_extension": ".py",
   "mimetype": "text/x-python",
   "name": "python",
   "nbconvert_exporter": "python",
   "pygments_lexer": "ipython3",
   "version": "3.10.16"
  }
 },
 "nbformat": 4,
 "nbformat_minor": 5
}
