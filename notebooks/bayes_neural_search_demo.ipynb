{
 "cells": [
  {
   "cell_type": "code",
   "execution_count": null,
   "id": "FKCY8cG65K8r",
   "metadata": {
    "id": "FKCY8cG65K8r"
   },
   "outputs": [
    {
     "name": "stdout",
     "output_type": "stream",
     "text": [
      "using repo path: /home/omar/Documents/Code/einstein_program_synthesis/scripts\n",
      "exists? True\n",
      "contains: ['synthesis_primitives.py', 'einstein_types.py', 'context.py', 'judgments.py', 'typing_rules.py', 'simplify.py', 'bayes_neural_search.py', 'pure_bayes_search.py', 'synthesis_state.py']\n"
     ]
    }
   ],
   "source": [
    "import sys\n",
    "from pathlib import Path\n",
    "\n",
    "def in_colab():\n",
    "    try:\n",
    "        import google.colab  # noqa: F401\n",
    "        return True\n",
    "    except Exception:\n",
    "        return False\n",
    "\n",
    "if in_colab():\n",
    "    from google.colab import drive\n",
    "    drive.mount(\"/content/drive\")\n",
    "    REPO_PATH = Path(\"/content/drive/My_Drive/einstein_program_synthesis/scripts\")  # adjust if needed\n",
    "else:\n",
    "    REPO_PATH = Path.home() / \"Documents\" / \"Code\" / \"einstein_program_synthesis\" / \"scripts\"  # adjust if needed\n",
    "\n",
    "sys.path.insert(0, str(REPO_PATH.resolve()))\n",
    "print(\"using repo path:\", REPO_PATH.resolve())\n",
    "print(\"exists?\", REPO_PATH.exists())\n",
    "print(\"contains:\", [p.name for p in REPO_PATH.glob(\"*.py\")])\n"
   ]
  },
  {
   "cell_type": "markdown",
   "id": "D23KjLT2NjDD",
   "metadata": {
    "id": "D23KjLT2NjDD"
   },
   "source": [
    "# Bayes neural search"
   ]
  },
  {
   "cell_type": "code",
   "execution_count": 2,
   "id": "4f3dc424",
   "metadata": {},
   "outputs": [
    {
     "name": "stdout",
     "output_type": "stream",
     "text": [
      "module path: /home/omar/Documents/Code/einstein_program_synthesis/scripts/bayes_neural_search.py\n"
     ]
    }
   ],
   "source": [
    "import importlib\n",
    "import bayes_neural_search as bn\n",
    "from einstein_types import Art, Emp\n",
    "\n",
    "bn = importlib.reload(bn)\n",
    "print(\"module path:\", bn.__file__)"
   ]
  },
  {
   "cell_type": "code",
   "execution_count": 3,
   "id": "Sl5qkRZ85Myk",
   "metadata": {
    "colab": {
     "base_uri": "https://localhost:8080/"
    },
    "executionInfo": {
     "elapsed": 2984,
     "status": "ok",
     "timestamp": 1755383392391,
     "user": {
      "displayName": "Omar Aguilar",
      "userId": "07112979418391027605"
     },
     "user_tz": -120
    },
    "id": "Sl5qkRZ85Myk",
    "outputId": "45c7810c-b62b-4d6b-db96-13fbca24adfa"
   },
   "outputs": [
    {
     "name": "stdout",
     "output_type": "stream",
     "text": [
      "3.10.16 (main, Dec 11 2024, 16:24:50) [GCC 11.2.0]\n",
      "torch: 2.5.1  numpy: 2.0.1\n"
     ]
    }
   ],
   "source": [
    "import sys, torch, numpy as np\n",
    "print(sys.version)\n",
    "print(\"torch:\", torch.__version__, \" numpy:\", np.__version__)"
   ]
  },
  {
   "cell_type": "markdown",
   "id": "NG97zBKfNREN",
   "metadata": {
    "id": "NG97zBKfNREN"
   },
   "source": [
    "## Search settings"
   ]
  },
  {
   "cell_type": "code",
   "execution_count": 4,
   "id": "87eae408",
   "metadata": {
    "id": "87eae408"
   },
   "outputs": [],
   "source": [
    "bn.MAX_SAMPLES_BAYES = 1000\n",
    "bn.BATCH_SIZE        = 64\n",
    "bn.EPOCHS            = 3\n",
    "bn.LR                = 1e-3\n",
    "\n",
    "bn.MAX_SAMPLES       = 1000\n",
    "bn.CHAIN_LENGTH      = 8\n",
    "bn.FEATURE_DIM       = 128\n",
    "\n",
    "bn.TERM_WEIGHT       = 0.7\n",
    "bn.TYPE_WEIGHT       = 0.3\n",
    "bn.GOAL_TERM         = \"t - u*x/c**2\"\n",
    "bn.GOAL_TYPE         = Art & Emp\n",
    "bn.TARGET_TERM       = \"f(-k*y + t*w - k*u*x/c)\"\n",
    "\n",
    "bn.MIX_BASE          = 0.1\n",
    "\n",
    "bn.BACKWARD_NAMES               = {\"BWD\"}\n",
    "bn.ENABLE_NO_REPEAT             = False\n",
    "bn.ENABLE_SUB1_CONSTRAINT       = False\n",
    "bn.ENABLE_SIM_SIMPUS_CONSTRAINT = False\n",
    "bn.ENABLE_SIMPUS_SIM_CONSTRAINT = False\n",
    "bn.ENABLE_BACKWARD_GATE         = False\n",
    "bn.ENABLE_BACKWARD_ONLY_MODE    = False\n",
    "\n",
    "bn.VERBOSE = True\n",
    "\n",
    "# How many independent runs for this quickstart\n",
    "N_RUNS = 150  # keep small for a quick demo"
   ]
  },
  {
   "cell_type": "markdown",
   "id": "noq3jht5N6vN",
   "metadata": {
    "id": "noq3jht5N6vN"
   },
   "source": [
    "## Neural network"
   ]
  },
  {
   "cell_type": "code",
   "execution_count": null,
   "id": "22497003",
   "metadata": {
    "colab": {
     "base_uri": "https://localhost:8080/"
    },
    "executionInfo": {
     "elapsed": 17381,
     "status": "ok",
     "timestamp": 1755383409799,
     "user": {
      "displayName": "Omar Aguilar",
      "userId": "07112979418391027605"
     },
     "user_tz": -120
    },
    "id": "22497003",
    "outputId": "35fcf4f0-81c6-4376-ef5f-b73d3142b4c1"
   },
   "outputs": [
    {
     "name": "stderr",
     "output_type": "stream",
     "text": [
      "/content/drive/My Drive/einstein_program_synthesis/scripts/bayes_neural_search.py:194: UserWarning: Creating a tensor from a list of numpy.ndarrays is extremely slow. Please consider converting the list to a single numpy.ndarray with numpy.array() before converting to a tensor. (Triggered internally at /pytorch/torch/csrc/utils/tensor_new.cpp:254.)\n",
      "  return torch.tensor(S), torch.tensor(A)\n"
     ]
    },
    {
     "name": "stdout",
     "output_type": "stream",
     "text": [
      "Epoch  0  policy_loss=1.8583\n",
      "Epoch  1  policy_loss=1.8094\n",
      "Epoch  2  policy_loss=1.7707\n"
     ]
    }
   ],
   "source": [
    "net = bn.train_policy()"
   ]
  },
  {
   "cell_type": "markdown",
   "id": "1GaqYOw-N_-Q",
   "metadata": {
    "id": "1GaqYOw-N_-Q"
   },
   "source": [
    "## Search"
   ]
  },
  {
   "cell_type": "code",
   "execution_count": null,
   "id": "d125b366",
   "metadata": {
    "colab": {
     "base_uri": "https://localhost:8080/"
    },
    "executionInfo": {
     "elapsed": 2564939,
     "status": "ok",
     "timestamp": 1755385974740,
     "user": {
      "displayName": "Omar Aguilar",
      "userId": "07112979418391027605"
     },
     "user_tz": -120
    },
    "id": "d125b366",
    "outputId": "6db65233-5d7f-4769-d05f-9c8a59babd8f"
   },
   "outputs": [
    {
     "name": "stdout",
     "output_type": "stream",
     "text": [
      "Run  1: ✅ reached at program 479\n",
      "Run  2: ✅ reached at program 457\n",
      "Run  3: ✅ reached at program 400\n",
      "Run  4: ✅ reached at program 523\n",
      "Run  5: ✅ reached at program 366\n",
      "Run  6: ✅ reached at program 510\n",
      "Run  7: ✅ reached at program 534\n",
      "Run  8: ✅ reached at program 526\n",
      "Run  9: ✅ reached at program 504\n",
      "Run 10: ✅ reached at program 474\n",
      "Run 11: ✅ reached at program 399\n",
      "Run 12: ✅ reached at program 65\n",
      "Run 13: ✅ reached at program 262\n",
      "Run 14: ✅ reached at program 539\n",
      "Run 15: ✅ reached at program 542\n",
      "Run 16: ✅ reached at program 409\n",
      "Run 17: ✅ reached at program 382\n",
      "Run 18: ✅ reached at program 412\n",
      "Run 19: ✅ reached at program 448\n",
      "Run 20: ✅ reached at program 555\n",
      "Run 21: ✅ reached at program 546\n",
      "Run 22: ✅ reached at program 544\n",
      "Run 23: ✅ reached at program 503\n",
      "Run 24: ✅ reached at program 514\n",
      "Run 25: ✅ reached at program 544\n",
      "Run 26: ✅ reached at program 448\n",
      "Run 27: ✅ reached at program 400\n",
      "Run 28: ✅ reached at program 533\n",
      "Run 29: ✅ reached at program 209\n",
      "Run 30: ✅ reached at program 461\n",
      "Run 31: ✅ reached at program 543\n",
      "Run 32: ✅ reached at program 559\n",
      "Run 33: ✅ reached at program 425\n",
      "Run 34: ✅ reached at program 533\n",
      "Run 35: ✅ reached at program 548\n",
      "Run 36: ✅ reached at program 479\n",
      "Run 37: ✅ reached at program 83\n",
      "Run 38: ✅ reached at program 522\n",
      "Run 39: ✅ reached at program 238\n",
      "Run 40: ✅ reached at program 485\n",
      "Run 41: ✅ reached at program 483\n",
      "Run 42: ✅ reached at program 462\n",
      "Run 43: ✅ reached at program 281\n",
      "Run 44: ✅ reached at program 425\n",
      "Run 45: ✅ reached at program 374\n",
      "Run 46: ✅ reached at program 542\n",
      "Run 47: ✅ reached at program 281\n",
      "Run 48: ✅ reached at program 403\n",
      "Run 49: ✅ reached at program 188\n",
      "Run 50: ✅ reached at program 503\n",
      "Run 51: ✅ reached at program 544\n",
      "Run 52: ✅ reached at program 474\n",
      "Run 53: ✅ reached at program 541\n",
      "Run 54: ✅ reached at program 492\n",
      "Run 55: ✅ reached at program 549\n",
      "Run 56: ✅ reached at program 556\n",
      "Run 57: ✅ reached at program 185\n",
      "Run 58: ✅ reached at program 469\n",
      "Run 59: ✅ reached at program 210\n",
      "Run 60: ✅ reached at program 523\n",
      "Run 61: ✅ reached at program 344\n",
      "Run 62: ✅ reached at program 507\n",
      "Run 63: ✅ reached at program 549\n",
      "Run 64: ✅ reached at program 267\n",
      "Run 65: ✅ reached at program 469\n",
      "Run 66: ✅ reached at program 508\n",
      "Run 67: ✅ reached at program 119\n",
      "Run 68: ✅ reached at program 332\n",
      "Run 69: ✅ reached at program 508\n",
      "Run 70: ✅ reached at program 467\n",
      "Run 71: ✅ reached at program 492\n",
      "Run 72: ✅ reached at program 452\n",
      "Run 73: ✅ reached at program 272\n",
      "Run 74: ✅ reached at program 527\n",
      "Run 75: ✅ reached at program 311\n",
      "Run 76: ✅ reached at program 551\n",
      "Run 77: ✅ reached at program 458\n",
      "Run 78: ✅ reached at program 365\n",
      "Run 79: ✅ reached at program 538\n",
      "Run 80: ✅ reached at program 542\n",
      "Run 81: ✅ reached at program 419\n",
      "Run 82: ✅ reached at program 543\n",
      "Run 83: ✅ reached at program 529\n",
      "Run 84: ✅ reached at program 548\n",
      "Run 85: ✅ reached at program 111\n",
      "Run 86: ✅ reached at program 418\n",
      "Run 87: ✅ reached at program 455\n",
      "Run 88: ✅ reached at program 469\n",
      "Run 89: ✅ reached at program 291\n",
      "Run 90: ✅ reached at program 440\n",
      "Run 91: ✅ reached at program 142\n",
      "Run 92: ✅ reached at program 534\n",
      "Run 93: ✅ reached at program 440\n",
      "Run 94: ✅ reached at program 498\n",
      "Run 95: ✅ reached at program 490\n",
      "Run 96: ✅ reached at program 241\n",
      "Run 97: ✅ reached at program 552\n",
      "Run 98: ✅ reached at program 537\n",
      "Run 99: ✅ reached at program 391\n",
      "Run 100: ✅ reached at program 530\n",
      "Run 101: ✅ reached at program 510\n",
      "Run 102: ✅ reached at program 374\n",
      "Run 103: ✅ reached at program 469\n",
      "Run 104: ✅ reached at program 473\n",
      "Run 105: ✅ reached at program 403\n",
      "Run 106: ✅ reached at program 542\n",
      "Run 107: ✅ reached at program 372\n",
      "Run 108: ✅ reached at program 541\n",
      "Run 109: ✅ reached at program 532\n",
      "Run 110: ✅ reached at program 430\n",
      "Run 111: ✅ reached at program 104\n",
      "Run 112: ✅ reached at program 356\n",
      "Run 113: ✅ reached at program 543\n",
      "Run 114: ✅ reached at program 509\n",
      "Run 115: ✅ reached at program 532\n",
      "Run 116: ✅ reached at program 514\n",
      "Run 117: ✅ reached at program 428\n",
      "Run 118: ✅ reached at program 438\n",
      "Run 119: ✅ reached at program 469\n",
      "Run 120: ✅ reached at program 556\n",
      "Run 121: ✅ reached at program 539\n",
      "Run 122: ✅ reached at program 527\n",
      "Run 123: ✅ reached at program 135\n",
      "Run 124: ✅ reached at program 531\n",
      "Run 125: ✅ reached at program 529\n",
      "Run 126: ✅ reached at program 530\n",
      "Run 127: ✅ reached at program 174\n",
      "Run 128: ✅ reached at program 551\n",
      "Run 129: ✅ reached at program 447\n",
      "Run 130: ✅ reached at program 334\n",
      "Run 131: ✅ reached at program 245\n",
      "Run 132: ✅ reached at program 161\n",
      "Run 133: ✅ reached at program 154\n",
      "Run 134: ✅ reached at program 440\n",
      "Run 135: ✅ reached at program 274\n",
      "Run 136: ✅ reached at program 317\n",
      "Run 137: ✅ reached at program 14\n",
      "Run 138: ✅ reached at program 527\n",
      "Run 139: ✅ reached at program 512\n",
      "Run 140: ✅ reached at program 493\n",
      "Run 141: ✅ reached at program 491\n",
      "Run 142: ✅ reached at program 550\n",
      "Run 143: ✅ reached at program 540\n",
      "Run 144: ✅ reached at program 486\n",
      "Run 145: ✅ reached at program 502\n",
      "Run 146: ✅ reached at program 402\n",
      "Run 147: ✅ reached at program 541\n",
      "Run 148: ✅ reached at program 523\n",
      "Run 149: ✅ reached at program 469\n",
      "Run 150: ✅ reached at program 478\n",
      "\n",
      "→ 150/150 runs reached the goal.\n"
     ]
    }
   ],
   "source": [
    "results = bn.run_experiments(net, n_runs=N_RUNS, max_samples=bn.MAX_SAMPLES, parallel=False)\n",
    "# results[:10]  # peek first few\n",
    "# results"
   ]
  },
  {
   "cell_type": "markdown",
   "id": "TX4xbOEHOyZI",
   "metadata": {
    "id": "TX4xbOEHOyZI"
   },
   "source": [
    "## Success indices at which goal is met"
   ]
  },
  {
   "cell_type": "code",
   "execution_count": null,
   "id": "0zJEMcw16raS",
   "metadata": {
    "colab": {
     "base_uri": "https://localhost:8080/"
    },
    "executionInfo": {
     "elapsed": 26,
     "status": "ok",
     "timestamp": 1755385974742,
     "user": {
      "displayName": "Omar Aguilar",
      "userId": "07112979418391027605"
     },
     "user_tz": -120
    },
    "id": "0zJEMcw16raS",
    "outputId": "f9fd991f-28fe-48ef-ec4a-9e0d815d8a49"
   },
   "outputs": [
    {
     "name": "stdout",
     "output_type": "stream",
     "text": [
      "All program-indices at which the goal was met:\n",
      "[479, 457, 400, 523, 366, 510, 534, 526, 504, 474, 399, 65, 262, 539, 542, 409, 382, 412, 448, 555, 546, 544, 503, 514, 544, 448, 400, 533, 209, 461, 543, 559, 425, 533, 548, 479, 83, 522, 238, 485, 483, 462, 281, 425, 374, 542, 281, 403, 188, 503, 544, 474, 541, 492, 549, 556, 185, 469, 210, 523, 344, 507, 549, 267, 469, 508, 119, 332, 508, 467, 492, 452, 272, 527, 311, 551, 458, 365, 538, 542, 419, 543, 529, 548, 111, 418, 455, 469, 291, 440, 142, 534, 440, 498, 490, 241, 552, 537, 391, 530, 510, 374, 469, 473, 403, 542, 372, 541, 532, 430, 104, 356, 543, 509, 532, 514, 428, 438, 469, 556, 539, 527, 135, 531, 529, 530, 174, 551, 447, 334, 245, 161, 154, 440, 274, 317, 14, 527, 512, 493, 491, 550, 540, 486, 502, 402, 541, 523, 469, 478]\n"
     ]
    }
   ],
   "source": [
    "# Successful runs return an integer index; failures are None\n",
    "success_indices = [r for r in results if r is not None]\n",
    "\n",
    "print(\"All program-indices at which the goal was met:\")\n",
    "print(success_indices)\n"
   ]
  },
  {
   "cell_type": "markdown",
   "id": "hBhpBOXJPRz_",
   "metadata": {
    "id": "hBhpBOXJPRz_"
   },
   "source": [
    "## Save success indices"
   ]
  },
  {
   "cell_type": "code",
   "execution_count": null,
   "id": "aVTlVkuZ6y5x",
   "metadata": {
    "colab": {
     "base_uri": "https://localhost:8080/"
    },
    "executionInfo": {
     "elapsed": 1472,
     "status": "ok",
     "timestamp": 1755387614563,
     "user": {
      "displayName": "Omar Aguilar",
      "userId": "07112979418391027605"
     },
     "user_tz": -120
    },
    "id": "aVTlVkuZ6y5x",
    "outputId": "167a9443-6a48-438b-d165-4cf16b160abc"
   },
   "outputs": [
    {
     "name": "stdout",
     "output_type": "stream",
     "text": [
      "\n",
      "✅ Saved 150 indices to\n",
      "/content/drive/My Drive/einstein_program_synthesis/images/success_indices.csv\n"
     ]
    }
   ],
   "source": [
    "import os, numpy as np\n",
    "\n",
    "# Change this to wherever you want files saved\n",
    "output_dir = '/content/drive/My Drive/einstein_program_synthesis/images'\n",
    "os.makedirs(output_dir, exist_ok=True)\n",
    "\n",
    "out_path = os.path.join(output_dir, 'success_indices_bayes_neural.csv')\n",
    "np.savetxt(\n",
    "    out_path,\n",
    "    success_indices,\n",
    "    fmt='%d',\n",
    "    header='success_index',\n",
    "    delimiter=',',\n",
    "    comments=''\n",
    ")\n",
    "print(f\"\\n✅ Saved {len(success_indices)} indices to\\n{out_path}\")\n"
   ]
  },
  {
   "cell_type": "markdown",
   "id": "U-OTE-yFPUkB",
   "metadata": {
    "id": "U-OTE-yFPUkB"
   },
   "source": [
    "## Calculate statistics"
   ]
  },
  {
   "cell_type": "code",
   "execution_count": null,
   "id": "JdITF4rf6zzJ",
   "metadata": {
    "colab": {
     "base_uri": "https://localhost:8080/"
    },
    "executionInfo": {
     "elapsed": 16,
     "status": "ok",
     "timestamp": 1755385974743,
     "user": {
      "displayName": "Omar Aguilar",
      "userId": "07112979418391027605"
     },
     "user_tz": -120
    },
    "id": "JdITF4rf6zzJ",
    "outputId": "0aac75d0-9d46-4a89-f2aa-0a3f741df396"
   },
   "outputs": [
    {
     "name": "stdout",
     "output_type": "stream",
     "text": [
      "{'n': 150, 'mean': 433.7, 'std': 127.76896883035863, 'cv': 0.29460218775734065, 'median': 476.0, 'iqr': 137.75, 'q25': 393.0, 'q75': 530.75, 'p50': 476.0, 'p90': 544.0, 'p95': 549.55, 'min': 14.0, 'max': 559.0}\n"
     ]
    }
   ],
   "source": [
    "import numpy as np\n",
    "\n",
    "def summarize(results):\n",
    "    # keep numeric, non-None, non-NaN entries\n",
    "    arr = np.array([x for x in results if x is not None and not (isinstance(x, float) and np.isnan(x))], dtype=float)\n",
    "    n = arr.size\n",
    "    if n == 0:\n",
    "        return {\n",
    "            \"n\": 0,\n",
    "            \"mean\": None, \"std\": None, \"cv\": None,\n",
    "            \"median\": None, \"iqr\": None,\n",
    "            \"q25\": None, \"q75\": None,\n",
    "            \"p50\": None, \"p90\": None, \"p95\": None,\n",
    "            \"min\": None, \"max\": None,\n",
    "        }\n",
    "\n",
    "    mean = float(arr.mean())\n",
    "    std  = float(arr.std(ddof=1)) if n > 1 else 0.0  # sample std if possible\n",
    "    q25  = float(np.quantile(arr, 0.25))\n",
    "    med  = float(np.quantile(arr, 0.50))\n",
    "    q75  = float(np.quantile(arr, 0.75))\n",
    "    iqr  = float(q75 - q25)\n",
    "\n",
    "    stats = {\n",
    "        \"n\": n,\n",
    "        \"mean\": mean,\n",
    "        \"std\": std,\n",
    "        \"cv\": (float(std/mean) if mean != 0 else None),\n",
    "        \"median\": med,\n",
    "        \"iqr\": iqr,\n",
    "        \"q25\": q25,\n",
    "        \"q75\": q75,\n",
    "        \"p50\": med,\n",
    "        \"p90\": float(np.percentile(arr, 90)),\n",
    "        \"p95\": float(np.percentile(arr, 95)),\n",
    "        \"min\": float(arr.min()),\n",
    "        \"max\": float(arr.max()),\n",
    "    }\n",
    "    return stats\n",
    "\n",
    "stats = summarize(results)\n",
    "print(stats)\n"
   ]
  },
  {
   "cell_type": "markdown",
   "id": "hqsQZRHKPc6Z",
   "metadata": {
    "id": "hqsQZRHKPc6Z"
   },
   "source": [
    "## Save statistics"
   ]
  },
  {
   "cell_type": "code",
   "execution_count": null,
   "id": "u7-VoQgQ64hr",
   "metadata": {
    "colab": {
     "base_uri": "https://localhost:8080/"
    },
    "executionInfo": {
     "elapsed": 679,
     "status": "ok",
     "timestamp": 1755387774066,
     "user": {
      "displayName": "Omar Aguilar",
      "userId": "07112979418391027605"
     },
     "user_tz": -120
    },
    "id": "u7-VoQgQ64hr",
    "outputId": "841b69b3-b64d-48fe-d0fa-feb4686c339e"
   },
   "outputs": [
    {
     "name": "stdout",
     "output_type": "stream",
     "text": [
      "✅ Saved Bayes-Neural stats to /content/drive/My Drive/einstein_program_synthesis/images/bayes_neural_stats.csv\n"
     ]
    }
   ],
   "source": [
    "import os, csv\n",
    "\n",
    "output_dir = '/content/drive/My Drive/einstein_program_synthesis/images'\n",
    "csv_path = os.path.join(output_dir, 'bayes_neural_stats.csv')\n",
    "with open(csv_path, 'w', newline='') as fp:\n",
    "    writer = csv.writer(fp)\n",
    "    # stable ordering for columns\n",
    "    cols = [\"n\",\"mean\",\"std\",\"cv\",\"median\",\"iqr\",\"q25\",\"q75\",\"p50\",\"p90\",\"p95\",\"min\",\"max\"]\n",
    "    writer.writerow(cols)\n",
    "    writer.writerow([stats[c] for c in cols])\n",
    "\n",
    "print(f\"✅ Saved Bayes-Neural stats to {csv_path}\")\n"
   ]
  },
  {
   "cell_type": "markdown",
   "id": "aIpB5qCWOkHb",
   "metadata": {
    "id": "aIpB5qCWOkHb"
   },
   "source": [
    "## Plot success rate versus program index"
   ]
  },
  {
   "cell_type": "code",
   "execution_count": null,
   "id": "Po8zil8r665s",
   "metadata": {
    "colab": {
     "base_uri": "https://localhost:8080/",
     "height": 487
    },
    "executionInfo": {
     "elapsed": 101,
     "status": "ok",
     "timestamp": 1755385974840,
     "user": {
      "displayName": "Omar Aguilar",
      "userId": "07112979418391027605"
     },
     "user_tz": -120
    },
    "id": "Po8zil8r665s",
    "outputId": "c5f778e4-8e06-4d46-cecb-7ead1fb8e128"
   },
   "outputs": [
    {
     "data": {
      "image/png": "[encoded data removed]",
      "text/plain": [
       "<Figure size 640x480 with 1 Axes>"
      ]
     },
     "metadata": {},
     "output_type": "display_data"
    }
   ],
   "source": [
    "import numpy as np\n",
    "import matplotlib.pyplot as plt\n",
    "\n",
    "# Given success indices from this batch\n",
    "success_array = np.array(success_indices, dtype=int)\n",
    "num_runs = len(success_indices)\n",
    "max_program = bn.MAX_SAMPLES  # x-axis limit (your sampling budget)\n",
    "\n",
    "# X axis: program indices 1..max_program\n",
    "x = np.arange(1, max_program + 1)\n",
    "\n",
    "# Cumulative success rate at each program index k\n",
    "# (fraction of runs that succeeded at or before k)\n",
    "success_rate = np.array([(success_array <= k).sum() for k in x]) / max(num_runs, 1)\n",
    "\n",
    "# Plot\n",
    "plt.figure()\n",
    "plt.plot(x, success_rate)\n",
    "plt.xlabel(\"Program index\", fontsize=12)\n",
    "plt.ylabel(\"Success rate\", fontsize=12)\n",
    "# plt.title(\"Success Rate over Program Index\")\n",
    "\n",
    "# Bigger tick labels\n",
    "plt.xticks(fontsize=12)\n",
    "plt.yticks(fontsize=12)\n",
    "\n",
    "# Force x-axis from 0 to max_program\n",
    "plt.xlim(0, max_program)\n",
    "\n",
    "# Grid a bit darker/heavier (like your screenshot)\n",
    "plt.grid(\n",
    "    True,\n",
    "    color=\"#CCCCCC\",   # darker gray\n",
    "    linewidth=0.6,     # slightly thicker\n",
    "    linestyle='-.',    # dashed-dot\n",
    "    alpha=0.4          # more opaque\n",
    ")\n",
    "\n",
    "# Optional: remove top & right spines\n",
    "# ax = plt.gca()\n",
    "# ax.spines['top'].set_visible(False)\n",
    "# ax.spines['right'].set_visible(False)\n",
    "\n",
    "plt.tight_layout()\n",
    "plt.show()\n"
   ]
  },
  {
   "cell_type": "markdown",
   "id": "dBkWnw3PPqAc",
   "metadata": {
    "id": "dBkWnw3PPqAc"
   },
   "source": [
    "## Reset caches"
   ]
  },
  {
   "cell_type": "code",
   "execution_count": null,
   "id": "H7HqtXnP6_5l",
   "metadata": {
    "id": "H7HqtXnP6_5l"
   },
   "outputs": [],
   "source": [
    "bn.expr_to_str.cache_clear()\n",
    "bn.closeness.cache_clear()\n",
    "bn._apply_primitive_cached.cache_clear()\n",
    "bn._ctx_cache.clear(); bn._cursor_cache.clear()\n"
   ]
  },
  {
   "cell_type": "code",
   "execution_count": null,
   "id": "uapEHY1F-caD",
   "metadata": {
    "id": "uapEHY1F-caD"
   },
   "outputs": [],
   "source": []
  }
 ],
 "metadata": {
  "colab": {
   "provenance": []
  },
  "kernelspec": {
   "display_name": "einstein_dsl",
   "language": "python",
   "name": "python3"
  },
  "language_info": {
   "codemirror_mode": {
    "name": "ipython",
    "version": 3
   },
   "file_extension": ".py",
   "mimetype": "text/x-python",
   "name": "python",
   "nbconvert_exporter": "python",
   "pygments_lexer": "ipython3",
   "version": "3.10.16"
  }
 },
 "nbformat": 4,
 "nbformat_minor": 5
}
