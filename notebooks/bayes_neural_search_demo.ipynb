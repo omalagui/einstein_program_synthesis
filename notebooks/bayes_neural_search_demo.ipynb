{
 "cells": [
  {
   "cell_type": "code",
   "execution_count": 1,
   "id": "FKCY8cG65K8r",
   "metadata": {
    "colab": {
     "base_uri": "https://localhost:8080/"
    },
    "executionInfo": {
     "elapsed": 26339,
     "status": "ok",
     "timestamp": 1755559529907,
     "user": {
      "displayName": "Omar Aguilar",
      "userId": "07112979418391027605"
     },
     "user_tz": -120
    },
    "id": "FKCY8cG65K8r",
    "outputId": "051944be-3f2a-4528-f47a-8fad785f4548"
   },
   "outputs": [
    {
     "name": "stdout",
     "output_type": "stream",
     "text": [
      "Mounted at /content/drive\n",
      "using repo path: /content/drive/MyDrive/einstein_program_synthesis/scripts\n",
      "exists? True\n",
      "contains: ['context.py', 'judgments.py', 'einstein_types.py', 'synthesis_state.py', 'synthesis_primitives.py', 'typing_rules.py', 'simplify.py', 'pure_bayes_search.py', 'enumeration_search.py', 'bayes_neural_search.py']\n"
     ]
    }
   ],
   "source": [
    "import sys\n",
    "from pathlib import Path\n",
    "\n",
    "def in_colab():\n",
    "    try:\n",
    "        import google.colab  # noqa: F401\n",
    "        return True\n",
    "    except Exception:\n",
    "        return False\n",
    "\n",
    "if in_colab():\n",
    "    from google.colab import drive\n",
    "    drive.mount(\"/content/drive\")\n",
    "    REPO_PATH = Path(\"/content/drive/MyDrive/einstein_program_synthesis/scripts\")  # adjust if needed\n",
    "else:\n",
    "    REPO_PATH = Path.home() / \"Documents\" / \"Code\" / \"einstein_program_synthesis\" / \"scripts\"  # adjust if needed\n",
    "\n",
    "sys.path.insert(0, str(REPO_PATH.resolve()))\n",
    "print(\"using repo path:\", REPO_PATH.resolve())\n",
    "print(\"exists?\", REPO_PATH.exists())\n",
    "print(\"contains:\", [p.name for p in REPO_PATH.glob(\"*.py\")])\n"
   ]
  },
  {
   "cell_type": "markdown",
   "id": "D23KjLT2NjDD",
   "metadata": {
    "id": "D23KjLT2NjDD"
   },
   "source": [
    "# Bayes neural search"
   ]
  },
  {
   "cell_type": "code",
   "execution_count": 2,
   "id": "4f3dc424",
   "metadata": {
    "colab": {
     "base_uri": "https://localhost:8080/"
    },
    "executionInfo": {
     "elapsed": 12622,
     "status": "ok",
     "timestamp": 1755559542531,
     "user": {
      "displayName": "Omar Aguilar",
      "userId": "07112979418391027605"
     },
     "user_tz": -120
    },
    "id": "4f3dc424",
    "outputId": "40631ed3-9baa-4f48-c797-ae5b536b4b4b"
   },
   "outputs": [
    {
     "name": "stdout",
     "output_type": "stream",
     "text": [
      "module path: /content/drive/MyDrive/einstein_program_synthesis/scripts/bayes_neural_search.py\n"
     ]
    }
   ],
   "source": [
    "import importlib\n",
    "import bayes_neural_search as bn\n",
    "from einstein_types import Art, Emp\n",
    "\n",
    "bn = importlib.reload(bn)\n",
    "print(\"module path:\", bn.__file__)"
   ]
  },
  {
   "cell_type": "code",
   "execution_count": 3,
   "id": "Sl5qkRZ85Myk",
   "metadata": {
    "colab": {
     "base_uri": "https://localhost:8080/"
    },
    "executionInfo": {
     "elapsed": 6,
     "status": "ok",
     "timestamp": 1755559542536,
     "user": {
      "displayName": "Omar Aguilar",
      "userId": "07112979418391027605"
     },
     "user_tz": -120
    },
    "id": "Sl5qkRZ85Myk",
    "outputId": "7f378ebb-100d-45f2-e551-35de73906af8"
   },
   "outputs": [
    {
     "name": "stdout",
     "output_type": "stream",
     "text": [
      "3.11.13 (main, Jun  4 2025, 08:57:29) [GCC 11.4.0]\n",
      "torch: 2.6.0+cu124  numpy: 2.0.2\n"
     ]
    }
   ],
   "source": [
    "import sys, torch, numpy as np\n",
    "print(sys.version)\n",
    "print(\"torch:\", torch.__version__, \" numpy:\", np.__version__)"
   ]
  },
  {
   "cell_type": "markdown",
   "id": "NG97zBKfNREN",
   "metadata": {
    "id": "NG97zBKfNREN"
   },
   "source": [
    "## Search settings"
   ]
  },
  {
   "cell_type": "code",
   "execution_count": 4,
   "id": "87eae408",
   "metadata": {
    "executionInfo": {
     "elapsed": 1,
     "status": "ok",
     "timestamp": 1755559542538,
     "user": {
      "displayName": "Omar Aguilar",
      "userId": "07112979418391027605"
     },
     "user_tz": -120
    },
    "id": "87eae408"
   },
   "outputs": [],
   "source": [
    "bn.MAX_SAMPLES_BAYES = 200 # 1000\n",
    "bn.BATCH_SIZE        = 64\n",
    "bn.EPOCHS            = 3\n",
    "bn.LR                = 1e-3\n",
    "\n",
    "bn.MAX_SAMPLES       = 200 # 1000\n",
    "bn.CHAIN_LENGTH      = 8\n",
    "bn.FEATURE_DIM       = 128\n",
    "\n",
    "bn.TERM_WEIGHT       = 0.7\n",
    "bn.TYPE_WEIGHT       = 0.3\n",
    "bn.GOAL_TERM         = \"t - u*x/c**2\"\n",
    "bn.GOAL_TYPE         = Art & Emp\n",
    "bn.TARGET_TERM       = \"f(-k*y + t*w - k*u*x/c)\"\n",
    "\n",
    "bn.MIX_BASE          = 0.1\n",
    "\n",
    "bn.BACKWARD_NAMES               = {\"BWD\"}\n",
    "bn.ENABLE_NO_REPEAT             = True # False\n",
    "bn.ENABLE_SUB1_CONSTRAINT       = True # False\n",
    "bn.ENABLE_SIM_SIMPUS_CONSTRAINT = True # False\n",
    "bn.ENABLE_SIMPUS_SIM_CONSTRAINT = True # False\n",
    "bn.ENABLE_BACKWARD_GATE         = True # False\n",
    "bn.ENABLE_BACKWARD_ONLY_MODE    = False # False\n",
    "\n",
    "bn.VERBOSE = True\n",
    "\n",
    "# How many independent runs for this quickstart\n",
    "N_RUNS = 150  # keep small for a quick demo"
   ]
  },
  {
   "cell_type": "markdown",
   "id": "noq3jht5N6vN",
   "metadata": {
    "id": "noq3jht5N6vN"
   },
   "source": [
    "## Neural network"
   ]
  },
  {
   "cell_type": "code",
   "execution_count": 5,
   "id": "22497003",
   "metadata": {
    "colab": {
     "base_uri": "https://localhost:8080/"
    },
    "executionInfo": {
     "elapsed": 20877,
     "status": "ok",
     "timestamp": 1755559563416,
     "user": {
      "displayName": "Omar Aguilar",
      "userId": "07112979418391027605"
     },
     "user_tz": -120
    },
    "id": "22497003",
    "outputId": "de382b7d-fd56-4eec-ba93-f57d17a55ff1"
   },
   "outputs": [
    {
     "name": "stderr",
     "output_type": "stream",
     "text": [
      "/content/drive/MyDrive/einstein_program_synthesis/scripts/bayes_neural_search.py:194: UserWarning: Creating a tensor from a list of numpy.ndarrays is extremely slow. Please consider converting the list to a single numpy.ndarray with numpy.array() before converting to a tensor. (Triggered internally at /pytorch/torch/csrc/utils/tensor_new.cpp:254.)\n",
      "  return torch.tensor(S), torch.tensor(A)\n"
     ]
    },
    {
     "name": "stdout",
     "output_type": "stream",
     "text": [
      "Epoch  0  policy_loss=1.7673\n",
      "Epoch  1  policy_loss=1.7219\n",
      "Epoch  2  policy_loss=1.6807\n"
     ]
    }
   ],
   "source": [
    "net = bn.train_policy()"
   ]
  },
  {
   "cell_type": "markdown",
   "id": "1GaqYOw-N_-Q",
   "metadata": {
    "id": "1GaqYOw-N_-Q"
   },
   "source": [
    "## Search"
   ]
  },
  {
   "cell_type": "code",
   "execution_count": 6,
   "id": "d125b366",
   "metadata": {
    "colab": {
     "base_uri": "https://localhost:8080/"
    },
    "executionInfo": {
     "elapsed": 3627496,
     "status": "ok",
     "timestamp": 1755563190914,
     "user": {
      "displayName": "Omar Aguilar",
      "userId": "07112979418391027605"
     },
     "user_tz": -120
    },
    "id": "d125b366",
    "outputId": "386b67ba-990d-49c7-95c7-3f229d8876bb"
   },
   "outputs": [
    {
     "name": "stdout",
     "output_type": "stream",
     "text": [
      "Run  1: ✅ reached at program 95\n",
      "Run  2: ✅ reached at program 53\n",
      "Run  3: ✅ reached at program 57\n",
      "Run  4: ✅ reached at program 55\n",
      "Run  5: ✅ reached at program 84\n",
      "Run  6: ✅ reached at program 21\n",
      "Run  7: ✅ reached at program 77\n",
      "Run  8: ✅ reached at program 69\n",
      "Run  9: ✅ reached at program 73\n",
      "Run 10: ✅ reached at program 87\n",
      "Run 11: ✅ reached at program 91\n",
      "Run 12: ✅ reached at program 82\n",
      "Run 13: ✅ reached at program 87\n",
      "Run 14: ✅ reached at program 94\n",
      "Run 15: ✅ reached at program 86\n",
      "Run 16: ✅ reached at program 94\n",
      "Run 17: ✅ reached at program 84\n",
      "Run 18: ✅ reached at program 67\n",
      "Run 19: ✅ reached at program 10\n",
      "Run 20: ✅ reached at program 96\n",
      "Run 21: ✅ reached at program 86\n",
      "Run 22: ✅ reached at program 95\n",
      "Run 23: ✅ reached at program 58\n",
      "Run 24: ✅ reached at program 94\n",
      "Run 25: ✅ reached at program 96\n",
      "Run 26: ✅ reached at program 91\n",
      "Run 27: ✅ reached at program 93\n",
      "Run 28: ✅ reached at program 78\n",
      "Run 29: ✅ reached at program 92\n",
      "Run 30: ✅ reached at program 96\n",
      "Run 31: ✅ reached at program 87\n",
      "Run 32: ✅ reached at program 43\n",
      "Run 33: ✅ reached at program 64\n",
      "Run 34: ✅ reached at program 80\n",
      "Run 35: ✅ reached at program 46\n",
      "Run 36: ✅ reached at program 30\n",
      "Run 37: ✅ reached at program 94\n",
      "Run 38: ✅ reached at program 92\n",
      "Run 39: ✅ reached at program 97\n",
      "Run 40: ✅ reached at program 80\n",
      "Run 41: ✅ reached at program 87\n",
      "Run 42: ✅ reached at program 92\n",
      "Run 43: ✅ reached at program 44\n",
      "Run 44: ✅ reached at program 79\n",
      "Run 45: ✅ reached at program 79\n",
      "Run 46: ✅ reached at program 61\n",
      "Run 47: ✅ reached at program 94\n",
      "Run 48: ✅ reached at program 88\n",
      "Run 49: ✅ reached at program 71\n",
      "Run 50: ✅ reached at program 79\n",
      "Run 51: ✅ reached at program 87\n",
      "Run 52: ✅ reached at program 54\n",
      "Run 53: ✅ reached at program 96\n",
      "Run 54: ✅ reached at program 83\n",
      "Run 55: ✅ reached at program 83\n",
      "Run 56: ✅ reached at program 96\n",
      "Run 57: ✅ reached at program 80\n",
      "Run 58: ✅ reached at program 91\n",
      "Run 59: ✅ reached at program 96\n",
      "Run 60: ✅ reached at program 92\n",
      "Run 61: ✅ reached at program 95\n",
      "Run 62: ✅ reached at program 84\n",
      "Run 63: ✅ reached at program 37\n",
      "Run 64: ✅ reached at program 76\n",
      "Run 65: ✅ reached at program 91\n",
      "Run 66: ✅ reached at program 85\n",
      "Run 67: ✅ reached at program 93\n",
      "Run 68: ✅ reached at program 96\n",
      "Run 69: ✅ reached at program 72\n",
      "Run 70: ✅ reached at program 98\n",
      "Run 71: ✅ reached at program 82\n",
      "Run 72: ✅ reached at program 91\n",
      "Run 73: ✅ reached at program 93\n",
      "Run 74: ✅ reached at program 73\n",
      "Run 75: ✅ reached at program 92\n",
      "Run 76: ✅ reached at program 79\n",
      "Run 77: ✅ reached at program 90\n",
      "Run 78: ✅ reached at program 63\n",
      "Run 79: ✅ reached at program 66\n",
      "Run 80: ✅ reached at program 98\n",
      "Run 81: ✅ reached at program 78\n",
      "Run 82: ✅ reached at program 96\n",
      "Run 83: ✅ reached at program 89\n",
      "Run 84: ✅ reached at program 89\n",
      "Run 85: ✅ reached at program 66\n",
      "Run 86: ✅ reached at program 94\n",
      "Run 87: ✅ reached at program 73\n",
      "Run 88: ✅ reached at program 81\n",
      "Run 89: ✅ reached at program 53\n",
      "Run 90: ✅ reached at program 85\n",
      "Run 91: ✅ reached at program 56\n",
      "Run 92: ✅ reached at program 86\n",
      "Run 93: ✅ reached at program 75\n",
      "Run 94: ✅ reached at program 98\n",
      "Run 95: ✅ reached at program 94\n",
      "Run 96: ✅ reached at program 85\n",
      "Run 97: ✅ reached at program 94\n",
      "Run 98: ✅ reached at program 96\n",
      "Run 99: ✅ reached at program 52\n",
      "Run 100: ✅ reached at program 98\n",
      "Run 101: ✅ reached at program 96\n",
      "Run 102: ✅ reached at program 83\n",
      "Run 103: ✅ reached at program 56\n",
      "Run 104: ✅ reached at program 89\n",
      "Run 105: ✅ reached at program 71\n",
      "Run 106: ✅ reached at program 96\n",
      "Run 107: ✅ reached at program 91\n",
      "Run 108: ✅ reached at program 95\n",
      "Run 109: ✅ reached at program 95\n",
      "Run 110: ✅ reached at program 74\n",
      "Run 111: ✅ reached at program 95\n",
      "Run 112: ✅ reached at program 24\n",
      "Run 113: ✅ reached at program 77\n",
      "Run 114: ✅ reached at program 26\n",
      "Run 115: ✅ reached at program 94\n",
      "Run 116: ✅ reached at program 91\n",
      "Run 117: ✅ reached at program 88\n",
      "Run 118: ✅ reached at program 66\n",
      "Run 119: ✅ reached at program 70\n",
      "Run 120: ✅ reached at program 94\n",
      "Run 121: ✅ reached at program 96\n",
      "Run 122: ✅ reached at program 88\n",
      "Run 123: ✅ reached at program 52\n",
      "Run 124: ✅ reached at program 81\n",
      "Run 125: ✅ reached at program 96\n",
      "Run 126: ✅ reached at program 97\n",
      "Run 127: ✅ reached at program 92\n",
      "Run 128: ✅ reached at program 84\n",
      "Run 129: ✅ reached at program 24\n",
      "Run 130: ✅ reached at program 90\n",
      "Run 131: ✅ reached at program 94\n",
      "Run 132: ✅ reached at program 97\n",
      "Run 133: ✅ reached at program 65\n",
      "Run 134: ✅ reached at program 94\n",
      "Run 135: ✅ reached at program 97\n",
      "Run 136: ✅ reached at program 82\n",
      "Run 137: ✅ reached at program 93\n",
      "Run 138: ✅ reached at program 74\n",
      "Run 139: ✅ reached at program 83\n",
      "Run 140: ✅ reached at program 91\n",
      "Run 141: ✅ reached at program 74\n",
      "Run 142: ✅ reached at program 62\n",
      "Run 143: ✅ reached at program 78\n",
      "Run 144: ✅ reached at program 97\n",
      "Run 145: ✅ reached at program 60\n",
      "Run 146: ✅ reached at program 66\n",
      "Run 147: ✅ reached at program 63\n",
      "Run 148: ✅ reached at program 90\n",
      "Run 149: ✅ reached at program 55\n",
      "Run 150: ✅ reached at program 63\n",
      "\n",
      "→ 150/150 runs reached the goal.\n"
     ]
    }
   ],
   "source": [
    "results = bn.run_experiments(net, n_runs=N_RUNS, max_samples=bn.MAX_SAMPLES, parallel=False)\n",
    "# results[:10]  # peek first few\n",
    "# results"
   ]
  },
  {
   "cell_type": "markdown",
   "id": "TX4xbOEHOyZI",
   "metadata": {
    "id": "TX4xbOEHOyZI"
   },
   "source": [
    "## Success indices at which goal is met"
   ]
  },
  {
   "cell_type": "code",
   "execution_count": null,
   "id": "0zJEMcw16raS",
   "metadata": {
    "colab": {
     "base_uri": "https://localhost:8080/"
    },
    "executionInfo": {
     "elapsed": 8,
     "status": "ok",
     "timestamp": 1755563190927,
     "user": {
      "displayName": "Omar Aguilar",
      "userId": "07112979418391027605"
     },
     "user_tz": -120
    },
    "id": "0zJEMcw16raS",
    "outputId": "7f00b4f4-276c-4851-d44a-0cda1633533b"
   },
   "outputs": [
    {
     "name": "stdout",
     "output_type": "stream",
     "text": [
      "All program-indices at which the goal was met:\n",
      "[95, 53, 57, 55, 84, 21, 77, 69, 73, 87, 91, 82, 87, 94, 86, 94, 84, 67, 10, 96, 86, 95, 58, 94, 96, 91, 93, 78, 92, 96, 87, 43, 64, 80, 46, 30, 94, 92, 97, 80, 87, 92, 44, 79, 79, 61, 94, 88, 71, 79, 87, 54, 96, 83, 83, 96, 80, 91, 96, 92, 95, 84, 37, 76, 91, 85, 93, 96, 72, 98, 82, 91, 93, 73, 92, 79, 90, 63, 66, 98, 78, 96, 89, 89, 66, 94, 73, 81, 53, 85, 56, 86, 75, 98, 94, 85, 94, 96, 52, 98, 96, 83, 56, 89, 71, 96, 91, 95, 95, 74, 95, 24, 77, 26, 94, 91, 88, 66, 70, 94, 96, 88, 52, 81, 96, 97, 92, 84, 24, 90, 94, 97, 65, 94, 97, 82, 93, 74, 83, 91, 74, 62, 78, 97, 60, 66, 63, 90, 55, 63]\n"
     ]
    }
   ],
   "source": [
    "# Successful runs return an integer index; failures are None\n",
    "success_indices_bayes_neural = [r for r in results if r is not None]\n",
    "\n",
    "print(\"All program-indices at which the goal was met:\")\n",
    "print(success_indices_bayes_neural)\n"
   ]
  },
  {
   "cell_type": "markdown",
   "id": "hBhpBOXJPRz_",
   "metadata": {
    "id": "hBhpBOXJPRz_"
   },
   "source": [
    "## Save success indices"
   ]
  },
  {
   "cell_type": "code",
   "execution_count": null,
   "id": "aVTlVkuZ6y5x",
   "metadata": {
    "colab": {
     "base_uri": "https://localhost:8080/"
    },
    "executionInfo": {
     "elapsed": 7,
     "status": "ok",
     "timestamp": 1755563190935,
     "user": {
      "displayName": "Omar Aguilar",
      "userId": "07112979418391027605"
     },
     "user_tz": -120
    },
    "id": "aVTlVkuZ6y5x",
    "outputId": "655cf1bb-4fc4-40d1-ac36-73143c496a66"
   },
   "outputs": [
    {
     "name": "stdout",
     "output_type": "stream",
     "text": [
      "\n",
      "✅ Saved 150 indices to\n",
      "/content/drive/My Drive/einstein_program_synthesis/output/success_indices_bayes_neural.csv\n"
     ]
    }
   ],
   "source": [
    "import os, numpy as np\n",
    "\n",
    "# Change this to wherever you want files saved\n",
    "output_dir = '/content/drive/My Drive/einstein_program_synthesis/output'\n",
    "os.makedirs(output_dir, exist_ok=True)\n",
    "\n",
    "out_path = os.path.join(output_dir, 'success_indices_bayes_neural.csv')\n",
    "np.savetxt(\n",
    "    out_path,\n",
    "    success_indices_bayes_neural,\n",
    "    fmt='%d',\n",
    "    header='success_index',\n",
    "    delimiter=',',\n",
    "    comments=''\n",
    ")\n",
    "print(f\"\\n✅ Saved {len(success_indices_bayes_neural)} indices to\\n{out_path}\")\n"
   ]
  },
  {
   "cell_type": "markdown",
   "id": "U-OTE-yFPUkB",
   "metadata": {
    "id": "U-OTE-yFPUkB"
   },
   "source": [
    "## Calculate statistics"
   ]
  },
  {
   "cell_type": "code",
   "execution_count": 9,
   "id": "JdITF4rf6zzJ",
   "metadata": {
    "colab": {
     "base_uri": "https://localhost:8080/"
    },
    "executionInfo": {
     "elapsed": 21,
     "status": "ok",
     "timestamp": 1755563190955,
     "user": {
      "displayName": "Omar Aguilar",
      "userId": "07112979418391027605"
     },
     "user_tz": -120
    },
    "id": "JdITF4rf6zzJ",
    "outputId": "a677f772-8015-40be-9e44-887aee45764a"
   },
   "outputs": [
    {
     "name": "stdout",
     "output_type": "stream",
     "text": [
      "{'n': 150, 'mean': 79.51333333333334, 'std': 18.417141368759378, 'cv': 0.231623308905333, 'median': 85.5, 'iqr': 22.75, 'q25': 71.25, 'q75': 94.0, 'p50': 85.5, 'p90': 96.0, 'p95': 97.0, 'min': 10.0, 'max': 98.0}\n"
     ]
    }
   ],
   "source": [
    "import numpy as np\n",
    "\n",
    "def summarize(results):\n",
    "    # keep numeric, non-None, non-NaN entries\n",
    "    arr = np.array([x for x in results if x is not None and not (isinstance(x, float) and np.isnan(x))], dtype=float)\n",
    "    n = arr.size\n",
    "    if n == 0:\n",
    "        return {\n",
    "            \"n\": 0,\n",
    "            \"mean\": None, \"std\": None, \"cv\": None,\n",
    "            \"median\": None, \"iqr\": None,\n",
    "            \"q25\": None, \"q75\": None,\n",
    "            \"p50\": None, \"p90\": None, \"p95\": None,\n",
    "            \"min\": None, \"max\": None,\n",
    "        }\n",
    "\n",
    "    mean = float(arr.mean())\n",
    "    std  = float(arr.std(ddof=1)) if n > 1 else 0.0  # sample std if possible\n",
    "    q25  = float(np.quantile(arr, 0.25))\n",
    "    med  = float(np.quantile(arr, 0.50))\n",
    "    q75  = float(np.quantile(arr, 0.75))\n",
    "    iqr  = float(q75 - q25)\n",
    "\n",
    "    stats = {\n",
    "        \"n\": n,\n",
    "        \"mean\": mean,\n",
    "        \"std\": std,\n",
    "        \"cv\": (float(std/mean) if mean != 0 else None),\n",
    "        \"median\": med,\n",
    "        \"iqr\": iqr,\n",
    "        \"q25\": q25,\n",
    "        \"q75\": q75,\n",
    "        \"p50\": med,\n",
    "        \"p90\": float(np.percentile(arr, 90)),\n",
    "        \"p95\": float(np.percentile(arr, 95)),\n",
    "        \"min\": float(arr.min()),\n",
    "        \"max\": float(arr.max()),\n",
    "    }\n",
    "    return stats\n",
    "\n",
    "stats = summarize(results)\n",
    "print(stats)\n"
   ]
  },
  {
   "cell_type": "markdown",
   "id": "hqsQZRHKPc6Z",
   "metadata": {
    "id": "hqsQZRHKPc6Z"
   },
   "source": [
    "## Save statistics"
   ]
  },
  {
   "cell_type": "code",
   "execution_count": 10,
   "id": "u7-VoQgQ64hr",
   "metadata": {
    "colab": {
     "base_uri": "https://localhost:8080/"
    },
    "executionInfo": {
     "elapsed": 7,
     "status": "ok",
     "timestamp": 1755563190963,
     "user": {
      "displayName": "Omar Aguilar",
      "userId": "07112979418391027605"
     },
     "user_tz": -120
    },
    "id": "u7-VoQgQ64hr",
    "outputId": "77d5f8da-c49d-4ff9-df44-7e32244bfe12"
   },
   "outputs": [
    {
     "name": "stdout",
     "output_type": "stream",
     "text": [
      "✅ Saved Bayes-Neural stats to /content/drive/My Drive/einstein_program_synthesis/output/bayes_neural_stats.csv\n"
     ]
    }
   ],
   "source": [
    "import os, csv\n",
    "\n",
    "output_dir = '/content/drive/My Drive/einstein_program_synthesis/output'\n",
    "csv_path = os.path.join(output_dir, 'bayes_neural_stats.csv')\n",
    "with open(csv_path, 'w', newline='') as fp:\n",
    "    writer = csv.writer(fp)\n",
    "    # stable ordering for columns\n",
    "    cols = [\"n\",\"mean\",\"std\",\"cv\",\"median\",\"iqr\",\"q25\",\"q75\",\"p50\",\"p90\",\"p95\",\"min\",\"max\"]\n",
    "    writer.writerow(cols)\n",
    "    writer.writerow([stats[c] for c in cols])\n",
    "\n",
    "print(f\"✅ Saved Bayes-Neural stats to {csv_path}\")\n"
   ]
  },
  {
   "cell_type": "markdown",
   "id": "aIpB5qCWOkHb",
   "metadata": {
    "id": "aIpB5qCWOkHb"
   },
   "source": [
    "## Plot success rate versus program index"
   ]
  },
  {
   "cell_type": "code",
   "execution_count": null,
   "id": "Po8zil8r665s",
   "metadata": {
    "colab": {
     "base_uri": "https://localhost:8080/",
     "height": 487
    },
    "executionInfo": {
     "elapsed": 384,
     "status": "ok",
     "timestamp": 1755563191349,
     "user": {
      "displayName": "Omar Aguilar",
      "userId": "07112979418391027605"
     },
     "user_tz": -120
    },
    "id": "Po8zil8r665s",
    "outputId": "53f31d4a-ddc3-4066-bdd4-0531d2629ef2"
   },
   "outputs": [
    {
     "data": {
      "image/png": "[encoded data removed]",
      "text/plain": [
       "<Figure size 640x480 with 1 Axes>"
      ]
     },
     "metadata": {},
     "output_type": "display_data"
    }
   ],
   "source": [
    "import numpy as np\n",
    "import matplotlib.pyplot as plt\n",
    "\n",
    "# Given success indices from this batch\n",
    "success_array = np.array(success_indices_bayes_neural, dtype=int)\n",
    "max_program = bn.MAX_SAMPLES  # x-axis limit (your sampling budget)\n",
    "\n",
    "# X axis: program indices 1..max_program\n",
    "x = np.arange(1, max_program + 1)\n",
    "\n",
    "# Cumulative success rate at each program index k\n",
    "success_rate = np.array([(success_array <= k).sum() for k in x]) / max(N_RUNS, 1)\n",
    "\n",
    "# Plot\n",
    "plt.figure()\n",
    "plt.plot(x, success_rate)\n",
    "plt.xlabel(\"Program index\", fontsize=12)\n",
    "plt.ylabel(\"Success rate\", fontsize=12)\n",
    "# plt.title(\"Success Rate over Program Index\")\n",
    "\n",
    "# Bigger tick labels\n",
    "plt.xticks(fontsize=12)\n",
    "plt.yticks(fontsize=12)\n",
    "\n",
    "# Force x-axis from 0 to max_program\n",
    "plt.xlim(0, max_program)\n",
    "\n",
    "# Grid a bit darker/heavier (like your screenshot)\n",
    "plt.grid(\n",
    "    True,\n",
    "    color=\"#CCCCCC\",   # darker gray\n",
    "    linewidth=0.6,     # slightly thicker\n",
    "    linestyle='-.',    # dashed-dot\n",
    "    alpha=0.4          # more opaque\n",
    ")\n",
    "\n",
    "# Optional: remove top & right spines\n",
    "# ax = plt.gca()\n",
    "# ax.spines['top'].set_visible(False)\n",
    "# ax.spines['right'].set_visible(False)\n",
    "\n",
    "plt.tight_layout()\n",
    "plt.show()\n"
   ]
  },
  {
   "cell_type": "markdown",
   "id": "dBkWnw3PPqAc",
   "metadata": {
    "id": "dBkWnw3PPqAc"
   },
   "source": [
    "## Reset caches"
   ]
  },
  {
   "cell_type": "code",
   "execution_count": 12,
   "id": "H7HqtXnP6_5l",
   "metadata": {
    "executionInfo": {
     "elapsed": 55,
     "status": "ok",
     "timestamp": 1755563191399,
     "user": {
      "displayName": "Omar Aguilar",
      "userId": "07112979418391027605"
     },
     "user_tz": -120
    },
    "id": "H7HqtXnP6_5l"
   },
   "outputs": [],
   "source": [
    "bn.expr_to_str.cache_clear()\n",
    "bn.closeness.cache_clear()\n",
    "bn._apply_primitive_cached.cache_clear()\n",
    "bn._ctx_cache.clear(); bn._cursor_cache.clear()\n"
   ]
  },
  {
   "cell_type": "code",
   "execution_count": 12,
   "id": "uapEHY1F-caD",
   "metadata": {
    "executionInfo": {
     "elapsed": 36,
     "status": "ok",
     "timestamp": 1755563191401,
     "user": {
      "displayName": "Omar Aguilar",
      "userId": "07112979418391027605"
     },
     "user_tz": -120
    },
    "id": "uapEHY1F-caD"
   },
   "outputs": [],
   "source": []
  }
 ],
 "metadata": {
  "colab": {
   "provenance": []
  },
  "kernelspec": {
   "display_name": "einstein_dsl",
   "language": "python",
   "name": "python3"
  },
  "language_info": {
   "codemirror_mode": {
    "name": "ipython",
    "version": 3
   },
   "file_extension": ".py",
   "mimetype": "text/x-python",
   "name": "python",
   "nbconvert_exporter": "python",
   "pygments_lexer": "ipython3",
   "version": "3.10.16"
  }
 },
 "nbformat": 4,
 "nbformat_minor": 5
}
